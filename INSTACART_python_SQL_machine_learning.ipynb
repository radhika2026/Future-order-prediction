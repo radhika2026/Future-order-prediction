{
 "cells": [
  {
   "cell_type": "markdown",
   "metadata": {},
   "source": [
    "# Instacart Market Basket Analysis with SQL (SQlite3)\n",
    "Which products will an Instacart consumer purchase again?\n",
    "\n",
    "\n",
    "Data for this project is downloaded from\n",
    "https://www.kaggle.com/c/instacart-market-basket-analysis/data\n",
    "\n"
   ]
  },
  {
   "cell_type": "raw",
   "metadata": {},
   "source": [
    "# Data Description\n",
    "\n",
    "The dataset is a relational set of files describing customers' orders over time. The goal is to predict which products will be in a user's next order. The dataset is anonymized and contains a sample of over 3 million grocery orders from more than 200,000 Instacart users. For each user, we provide between 4 and 100 of their orders, with the sequence of products purchased in each order. We also provide the week and hour of day the order was placed, and a relative measure of time between orders. "
   ]
  },
  {
   "cell_type": "raw",
   "metadata": {},
   "source": [
    "# File descriptions\n",
    "aisles.csv\n",
    " aisle_id,aisle  \n",
    " 1,prepared soups salads  \n",
    " 2,specialty cheeses  \n",
    "  3,energy granola bars  \n",
    " ...\n",
    " \n",
    "departments.csv\n",
    " department_id,department  \n",
    " 1,frozen  \n",
    " 2,other  \n",
    " 3,bakery  \n",
    " ...\n",
    " \n",
    "order_products__*.csv\n",
    "These files specify which products were purchased in each order. order_products__prior.csv contains previous order contents for all customers. 'reordered' indicates that the customer has a previous order that contains the product. Note that some orders will have no reordered items. You may predict an explicit 'None' value for orders with no reordered items. See the evaluation page for full details.\n",
    " order_id,product_id,add_to_cart_order,reordered  \n",
    " 1,49302,1,1  \n",
    " 1,11109,2,1  \n",
    " 1,10246,3,0  \n",
    " ... \n",
    " orders.csv\n",
    "This file tells to which set (prior, train, test) an order belongs. You are predicting reordered items only for the test set orders. 'order_dow' is the day of week.\n",
    " order_id,user_id,eval_set,order_number,order_dow,order_hour_of_day,days_since_prior_order  \n",
    " 2539329,1,prior,1,2,08,  \n",
    " 2398795,1,prior,2,3,07,15.0  \n",
    " 473747,1,prior,3,3,12,21.0  \n",
    " ...\n",
    " \n",
    "products.csv\n",
    " product_id,product_name,aisle_id,department_id\n",
    " 1,Chocolate Sandwich Cookies,61,19  \n",
    " 2,All-Seasons Salt,104,13  \n",
    " 3,Robust Golden Unsweetened Oolong Tea,94,7  \n",
    " ...\n",
    "sample_submission.csv\n",
    "order_id,products\n",
    "17,39276  \n",
    "34,39276  \n",
    "137,39276  \n",
    "...\n",
    "\n",
    "\n"
   ]
  },
  {
   "cell_type": "code",
   "execution_count": 1,
   "metadata": {},
   "outputs": [],
   "source": [
    "#Load necessary modules\n",
    "import warnings\n",
    "warnings.filterwarnings('ignore') # silence annoying warningsn\n",
    "#sqlalchemy used so latter would be easy to convert from sqlite to postgress or other databases\n",
    "from sqlalchemy import create_engine\n",
    "import sqlite3 as sql\n",
    "from datetime import datetime\n",
    "\n",
    "\n",
    "import numpy as np\n",
    "import pandas as pd\n",
    "import matplotlib.pyplot as plt\n",
    "import seaborn as sns\n",
    "color = sns.color_palette()\n",
    "\n",
    "%matplotlib inline\n",
    "\n",
    "pd.options.mode.chained_assignment = None  # default='warn'"
   ]
  },
  {
   "cell_type": "code",
   "execution_count": 2,
   "metadata": {},
   "outputs": [
    {
     "name": "stdout",
     "output_type": "stream",
     "text": [
      "C:\\Users\\dave_\\Documents\\instacart_kaggle\n"
     ]
    }
   ],
   "source": [
    "#List provided data files\n",
    "import os\n",
    "print (os.getcwd())\n"
   ]
  },
  {
   "cell_type": "code",
   "execution_count": 3,
   "metadata": {},
   "outputs": [],
   "source": [
    "#run this 877304308503853 before, so dont need to extract again\n",
    "#UnZip files\n",
    "#import zipfile\n",
    "#with zipfile.ZipFile(\"aisles.csv.zip\",\"r\") as zip_ref:\n",
    "#    zip_ref.extractall(\"../instacart_shopping_analytics/data\")\n",
    "#with zipfile.ZipFile(\"departments.csv.zip\",\"r\") as zip_ref:\n",
    "#    zip_ref.extractall(\"../instacart_shopping_analytics/data\")\n",
    "#with zipfile.ZipFile(\"orders.csv.zip\",\"r\") as zip_ref:\n",
    "#    zip_ref.extractall(\"../instacart_shopping_analytics/data\")\n",
    "#with zipfile.ZipFile(\"order_products__prior.csv.zip\",\"r\") as zip_ref:\n",
    "#    zip_ref.extractall(\"../instacart_shopping_analytics/data\")\n",
    "#with zipfile.ZipFile(\"order_products__train.csv.zip\",\"r\") as zip_ref:\n",
    "#    zip_ref.extractall(\"../instacart_shopping_analytics/data\")\n",
    "#with zipfile.ZipFile(\"products.csv.zip\",\"r\") as zip_ref:\n",
    "#    zip_ref.extractall(\"../instacart_shopping_analytics/data\")\n",
    "#with zipfile.ZipFile(\"sample_submission.csv.zip\",\"r\") as zip_ref:\n",
    "#    zip_ref.extractall(\"../instacart_shopping_analytics/data\")    \n",
    "\n"
   ]
  },
  {
   "cell_type": "code",
   "execution_count": 3,
   "metadata": {},
   "outputs": [
    {
     "name": "stdout",
     "output_type": "stream",
     "text": [
      "C:\\Users\\dave_\\Documents\\instacart_kaggle\n",
      "C:\\Users\\dave_\\Documents\\instacart_kaggle\\data\n"
     ]
    },
    {
     "ename": "FileNotFoundError",
     "evalue": "[WinError 3] The system cannot find the path specified: '../instacart_kaggle/data'",
     "output_type": "error",
     "traceback": [
      "\u001b[1;31m---------------------------------------------------------------------------\u001b[0m",
      "\u001b[1;31mFileNotFoundError\u001b[0m                         Traceback (most recent call last)",
      "\u001b[1;32m<ipython-input-3-06a799bb8be8>\u001b[0m in \u001b[0;36m<module>\u001b[1;34m()\u001b[0m\n\u001b[0;32m      4\u001b[0m \u001b[0mdata_output\u001b[0m\u001b[1;33m=\u001b[0m\u001b[1;34m\"../\"\u001b[0m\u001b[1;33m\u001b[0m\u001b[0m\n\u001b[0;32m      5\u001b[0m \u001b[0mprint\u001b[0m \u001b[1;33m(\u001b[0m\u001b[0mos\u001b[0m\u001b[1;33m.\u001b[0m\u001b[0mgetcwd\u001b[0m\u001b[1;33m(\u001b[0m\u001b[1;33m)\u001b[0m\u001b[1;33m)\u001b[0m\u001b[1;33m\u001b[0m\u001b[0m\n\u001b[1;32m----> 6\u001b[1;33m \u001b[0mos\u001b[0m\u001b[1;33m.\u001b[0m\u001b[0mchdir\u001b[0m\u001b[1;33m(\u001b[0m\u001b[0mdata_path\u001b[0m\u001b[1;33m)\u001b[0m\u001b[1;33m\u001b[0m\u001b[0m\n\u001b[0m\u001b[0;32m      7\u001b[0m \u001b[0mprint\u001b[0m \u001b[1;33m(\u001b[0m\u001b[1;34m\"change of working directory \\n\"\u001b[0m\u001b[1;33m)\u001b[0m\u001b[1;33m\u001b[0m\u001b[0m\n\u001b[0;32m      8\u001b[0m \u001b[0mprint\u001b[0m \u001b[1;33m(\u001b[0m\u001b[0mos\u001b[0m\u001b[1;33m.\u001b[0m\u001b[0mgetcwd\u001b[0m\u001b[1;33m(\u001b[0m\u001b[1;33m)\u001b[0m\u001b[1;33m)\u001b[0m\u001b[1;33m\u001b[0m\u001b[0m\n",
      "\u001b[1;31mFileNotFoundError\u001b[0m: [WinError 3] The system cannot find the path specified: '../instacart_kaggle/data'"
     ]
    }
   ],
   "source": [
    "print (os.getcwd())\n",
    "data_path=\"../instacart_kaggle/data\"\n",
    "os.chdir(data_path)\n",
    "data_output=\"../\"\n",
    "print (os.getcwd())\n",
    "os.chdir(data_path)\n",
    "print (\"change of working directory \\n\")\n",
    "print (os.getcwd())"
   ]
  },
  {
   "cell_type": "code",
   "execution_count": 4,
   "metadata": {},
   "outputs": [],
   "source": [
    "#print the list of csv files in the input folder\n",
    "#The subprocess module allows you to spawn new processes, connect to their input/output/error pipes,\n",
    "#and obtain their return codes\n",
    "from subprocess import check_output\n",
    "\n",
    "conn = create_engine('sqlite:///kaggle_instakart.db')"
   ]
  },
  {
   "cell_type": "markdown",
   "metadata": {},
   "source": [
    "## Files loading into SQlite chunk by chunk\n",
    "Let's read all files into SQlite\n"
   ]
  },
  {
   "cell_type": "code",
   "execution_count": 5,
   "metadata": {},
   "outputs": [],
   "source": [
    "# Links orders to products\n",
    "\n",
    "\n",
    "#FUNCTION read_chunk_to_sqlite\n",
    "def read_chunk_csv_to_sqlite(file_name,disk_engine, table):\n",
    "    #to time loading process\n",
    "    start = datetime.now()\n",
    "    #chunk_size - number of rows\n",
    "    chunk_size = 10000\n",
    "    i = 0\n",
    "    index_start = 1\n",
    "    drop_table=\"DROP TABLE IF EXISTS %s ;\" %(table)\n",
    "    conn.execute(drop_table)        \n",
    "    \n",
    "    for df in pd.read_csv(file_name, chunksize=chunk_size, iterator=True, encoding='utf-8'):\n",
    "        df = df.rename(columns={c: c.replace(' ', '') for c in df.columns}) # delete spaces between columns from CSV file\n",
    "        df.index += index_start\n",
    "        i+=1\n",
    "        if i<= 50:\n",
    "            df.to_sql(table, disk_engine, if_exists='append')\n",
    "            if i%10 == 0:\n",
    "                #print how long it takes to load database\n",
    "                print ('{} Seconds: Loaded rows {}'.format((datetime.now()-start).total_seconds(),i*chunk_size))\n",
    "            index_start = df.index[-1] + 1\n",
    "        else:\n",
    "            print(\"Limit Data for exploration\")\n",
    "            break\n",
    "    \n",
    "    # Created indexes on all id columns. this is a life saver\n",
    "    index_columns = [col for col in df.columns if col.find(\"_id\")>-1]\n",
    "    for col in index_columns:\n",
    "        #create indexes for latter for quicker access\n",
    "        create_indexes=\"CREATE INDEX index_%s on %s (%s);\" %(col+\"_\"+table,table,col)\n",
    "        conn.execute(create_indexes)        \n"
   ]
  },
  {
   "cell_type": "code",
   "execution_count": 6,
   "metadata": {},
   "outputs": [
    {
     "name": "stdout",
     "output_type": "stream",
     "text": [
      "C:\\Users\\dave_\\Documents\\instacart_kaggle\\data\n",
      "['aisles.csv', 'departments.csv', 'orders.csv', 'order_products__prior.csv', 'order_products__train.csv', 'products.csv', 'sample_submission.csv']\n"
     ]
    }
   ],
   "source": [
    "# Read CSV into SQLite database\n",
    "print (os.getcwd())\n",
    "files_list = [file  for file in os.listdir() if file.find(\".csv\") != -1 ]\n",
    "#files_list = [file  for file in os.listdir(data_path) if file.find(\".csv\") != -1 ]\n",
    "print (files_list)\n"
   ]
  },
  {
   "cell_type": "code",
   "execution_count": 7,
   "metadata": {},
   "outputs": [
    {
     "name": "stdout",
     "output_type": "stream",
     "text": [
      "\n",
      " loading table aisles\n",
      " loading of table aisles complete\n",
      "\n",
      " loading table departments\n",
      " loading of table departments complete\n",
      "\n",
      " loading table orders\n",
      "10.63877 Seconds: Loaded rows 100000\n",
      "14.467605 Seconds: Loaded rows 200000\n",
      "18.400502 Seconds: Loaded rows 300000\n",
      "22.687856 Seconds: Loaded rows 400000\n",
      "26.471691 Seconds: Loaded rows 500000\n",
      "Limit Data for exploration\n",
      " loading of table orders complete\n",
      "\n",
      " loading table order_products__prior\n",
      "7.295414 Seconds: Loaded rows 100000\n",
      "11.106118 Seconds: Loaded rows 200000\n",
      "14.598265 Seconds: Loaded rows 300000\n",
      "17.927341 Seconds: Loaded rows 400000\n",
      "21.401197 Seconds: Loaded rows 500000\n",
      "Limit Data for exploration\n",
      " loading of table order_products__prior complete\n",
      "\n",
      " loading table order_products__train\n",
      "8.233431 Seconds: Loaded rows 100000\n",
      "11.971737 Seconds: Loaded rows 200000\n",
      "15.277058 Seconds: Loaded rows 300000\n",
      "18.460617 Seconds: Loaded rows 400000\n",
      "21.832954 Seconds: Loaded rows 500000\n",
      "Limit Data for exploration\n",
      " loading of table order_products__train complete\n",
      "\n",
      " loading table products\n",
      " loading of table products complete\n",
      "\n",
      " loading table sample_submission\n",
      " loading of table sample_submission complete\n"
     ]
    }
   ],
   "source": [
    "for file in files_list:    \n",
    "    table = file.split(\".\")[0]\n",
    "    print('\\n loading table {}'.format(table))\n",
    "    file_name = file\n",
    "  #  file_name = data_path + \"/\"+file\n",
    "    #print(filename)\n",
    "    read_chunk_csv_to_sqlite(file_name,conn,table)\n",
    "    print (' loading of table {} complete'.format(table))"
   ]
  },
  {
   "cell_type": "markdown",
   "metadata": {},
   "source": [
    "## First look into loaded tables"
   ]
  },
  {
   "cell_type": "code",
   "execution_count": 8,
   "metadata": {},
   "outputs": [
    {
     "name": "stdout",
     "output_type": "stream",
     "text": [
      "Total number of aisles: 5\n",
      "Top 5 in aisles table\n",
      "    index  aisle_id                       aisle\n",
      "0      1         1       prepared soups salads\n",
      "1      2         2           specialty cheeses\n",
      "2      3         3         energy granola bars\n",
      "3      4         4               instant foods\n",
      "4      5         5  marinades meat preparation \n",
      "\n",
      "\n"
     ]
    }
   ],
   "source": [
    "#EXPLORING AISLES\n",
    "aisles = pd.read_sql_query(\"SELECT * FROM aisles LIMIT 5 ;\", conn)\n",
    "print('Total number of aisles: {}'.format(aisles.shape[0]))\n",
    "print(\"Top 5 in aisles table\\n\",aisles.head(),\"\\n\\n\")"
   ]
  },
  {
   "cell_type": "code",
   "execution_count": 9,
   "metadata": {},
   "outputs": [
    {
     "name": "stdout",
     "output_type": "stream",
     "text": [
      "Total number of departments: 5\n",
      "Top 5 in departments table\n",
      "    index  department_id department\n",
      "0      1              1     frozen\n",
      "1      2              2      other\n",
      "2      3              3     bakery\n",
      "3      4              4    produce\n",
      "4      5              5    alcohol \n",
      "\n",
      "\n"
     ]
    }
   ],
   "source": [
    "#EXPLORING DEPARTMENTS\n",
    "departments = pd.read_sql_query(\"SELECT * FROM departments LIMIT 5 ;\", conn)\n",
    "print('Total number of departments: {}'.format(departments.shape[0]))\n",
    "print(\"Top 5 in departments table\\n\",departments.head(),\"\\n\\n\")"
   ]
  },
  {
   "cell_type": "code",
   "execution_count": 10,
   "metadata": {},
   "outputs": [
    {
     "name": "stdout",
     "output_type": "stream",
     "text": [
      "Total number of products: 5\n",
      "Top 5 in products table\n",
      "    index  product_id                                       product_name  \\\n",
      "0      1           1                         Chocolate Sandwich Cookies   \n",
      "1      2           2                                   All-Seasons Salt   \n",
      "2      3           3               Robust Golden Unsweetened Oolong Tea   \n",
      "3      4           4  Smart Ones Classic Favorites Mini Rigatoni Wit...   \n",
      "4      5           5                          Green Chile Anytime Sauce   \n",
      "\n",
      "   aisle_id  department_id  \n",
      "0        61             19  \n",
      "1       104             13  \n",
      "2        94              7  \n",
      "3        38              1  \n",
      "4         5             13   \n",
      "\n",
      "\n"
     ]
    }
   ],
   "source": [
    "#EXPLORING PRODUCTS\n",
    "products = pd.read_sql_query(\"SELECT * FROM products LIMIT 5 ;\", conn)\n",
    "print('Total number of products: {}'.format(products.shape[0]))\n",
    "print(\"Top 5 in products table\\n\",products.head(),\"\\n\\n\")"
   ]
  },
  {
   "cell_type": "code",
   "execution_count": 11,
   "metadata": {},
   "outputs": [
    {
     "name": "stdout",
     "output_type": "stream",
     "text": [
      "Total number of orders: 5\n",
      "Top 5 in orders table\n",
      "    index  order_id  user_id eval_set  order_number  order_dow  \\\n",
      "0      1   2539329        1    prior             1          2   \n",
      "1      2   2398795        1    prior             2          3   \n",
      "2      3    473747        1    prior             3          3   \n",
      "3      4   2254736        1    prior             4          4   \n",
      "4      5    431534        1    prior             5          4   \n",
      "\n",
      "   order_hour_of_day  days_since_prior_order  \n",
      "0                  8                     NaN  \n",
      "1                  7                    15.0  \n",
      "2                 12                    21.0  \n",
      "3                  7                    29.0  \n",
      "4                 15                    28.0   \n",
      "\n",
      "\n"
     ]
    }
   ],
   "source": [
    "#EXPLORING ORDERS\n",
    "orders = pd.read_sql_query(\"SELECT * FROM orders LIMIT 5 ;\", conn)\n",
    "print('Total number of orders: {}'.format(orders.shape[0]))\n",
    "print(\"Top 5 in orders table\\n\",orders.head(),\"\\n\\n\")"
   ]
  },
  {
   "cell_type": "code",
   "execution_count": 12,
   "metadata": {},
   "outputs": [
    {
     "name": "stdout",
     "output_type": "stream",
     "text": [
      "Count orders train table\n",
      "    COUNT (order_id)\n",
      "0            500000 \n",
      "\n",
      "\n"
     ]
    }
   ],
   "source": [
    "#EXPLORE MORE ORDERS TRAIN DATASET\n",
    "count_orders = pd.read_sql_query(\"SELECT COUNT (order_id) FROM orders ;\", conn)\n",
    "#print('Total number of orders prior: {}'.format(orders_prior.shape[0]))\n",
    "print(\"Count orders train table\\n\",count_orders,\"\\n\\n\")"
   ]
  },
  {
   "cell_type": "code",
   "execution_count": 13,
   "metadata": {},
   "outputs": [
    {
     "name": "stdout",
     "output_type": "stream",
     "text": [
      "Count orders test table\n",
      "    COUNT (user_id)\n",
      "0            10931 \n",
      "\n",
      "\n",
      "Count orders train table\n",
      "    COUNT (user_id)\n",
      "0            19216 \n",
      "\n",
      "\n",
      "Count orders prior table\n",
      "    COUNT (user_id)\n",
      "0           469853 \n",
      "\n",
      "\n"
     ]
    }
   ],
   "source": [
    "#EXPLORE MORE ORDERS \n",
    "count_orders_test = pd.read_sql_query(\"SELECT COUNT (user_id) FROM orders WHERE eval_set='test' ;\", conn)\n",
    "#print('Total number of orders prior: {}'.format(orders_prior.shape[0]))\n",
    "print(\"Count orders test table\\n\",count_orders_test,\"\\n\\n\")\n",
    "count_orders_train = pd.read_sql_query(\"SELECT COUNT (user_id) FROM orders WHERE eval_set='train' ;\", conn)\n",
    "#print('Total number of orders prior: {}'.format(orders_prior.shape[0]))\n",
    "print(\"Count orders train table\\n\",count_orders_train,\"\\n\\n\")\n",
    "count_orders_prior = pd.read_sql_query(\"SELECT COUNT (user_id) FROM orders WHERE eval_set='prior' ;\", conn)\n",
    "#print('Total number of orders prior: {}'.format(orders_prior.shape[0]))\n",
    "print(\"Count orders prior table\\n\",count_orders_prior,\"\\n\\n\")"
   ]
  },
  {
   "cell_type": "markdown",
   "metadata": {},
   "source": [
    "Ok, we need only to predict which products will be reordered for only 10931 user_id"
   ]
  },
  {
   "cell_type": "code",
   "execution_count": 14,
   "metadata": {},
   "outputs": [
    {
     "name": "stdout",
     "output_type": "stream",
     "text": [
      "Total number of orders train: 5\n",
      "Top 5 in orders train table\n",
      "    index  order_id  product_id  add_to_cart_order  reordered\n",
      "0      1         1       49302                  1          1\n",
      "1      2         1       11109                  2          1\n",
      "2      3         1       10246                  3          0\n",
      "3      4         1       49683                  4          0\n",
      "4      5         1       43633                  5          1 \n",
      "\n",
      "\n"
     ]
    }
   ],
   "source": [
    "#EXPLORING ORDERS TRAIN\n",
    "orders_train = pd.read_sql_query(\"SELECT * FROM order_products__train LIMIT 5 ;\", conn)\n",
    "print('Total number of orders train: {}'.format(orders_train.shape[0]))\n",
    "print(\"Top 5 in orders train table\\n\",orders_train,\"\\n\\n\")"
   ]
  },
  {
   "cell_type": "code",
   "execution_count": 15,
   "metadata": {},
   "outputs": [
    {
     "name": "stdout",
     "output_type": "stream",
     "text": [
      "Count orders train table\n",
      "    COUNT (product_id)\n",
      "0              500000 \n",
      "\n",
      "\n"
     ]
    }
   ],
   "source": [
    "#EXPLORE MORE ORDERS TRAIN DATASET MORE QC\n",
    "count_train = pd.read_sql_query(\"SELECT COUNT (product_id) FROM order_products__train ;\", conn)\n",
    "#print('Total number of orders prior: {}'.format(orders_prior.shape[0]))\n",
    "print(\"Count orders train table\\n\",count_train,\"\\n\\n\")"
   ]
  },
  {
   "cell_type": "code",
   "execution_count": 16,
   "metadata": {},
   "outputs": [
    {
     "name": "stdout",
     "output_type": "stream",
     "text": [
      "Total number of orders prior: 5\n",
      "Top 5 in orders prior table\n",
      "    index  order_id  product_id  add_to_cart_order  reordered\n",
      "0      1         2       33120                  1          1\n",
      "1      2         2       28985                  2          1\n",
      "2      3         2        9327                  3          0\n",
      "3      4         2       45918                  4          1\n",
      "4      5         2       30035                  5          0 \n",
      "\n",
      "\n"
     ]
    }
   ],
   "source": [
    "#EXPLORING ORDERS PRIOR\n",
    "orders_prior = pd.read_sql_query(\"SELECT * FROM order_products__prior LIMIT 5 ;\", conn)\n",
    "print('Total number of orders prior: {}'.format(orders_prior.shape[0]))\n",
    "print(\"Top 5 in orders prior table\\n\",orders_prior.head(),\"\\n\\n\")"
   ]
  },
  {
   "cell_type": "code",
   "execution_count": 17,
   "metadata": {},
   "outputs": [
    {
     "name": "stdout",
     "output_type": "stream",
     "text": [
      "Count orders prior table\n",
      "    COUNT (order_id)\n",
      "0            500000 \n",
      "\n",
      "\n"
     ]
    }
   ],
   "source": [
    "#EXPLORE MORE PRIOR DATASET  MORE QC\n",
    "count_prior = pd.read_sql_query(\"SELECT COUNT (order_id) FROM order_products__prior ;\", conn)\n",
    "#print('Total number of orders prior: {}'.format(orders_prior.shape[0]))\n",
    "print(\"Count orders prior table\\n\",count_prior,\"\\n\\n\")"
   ]
  },
  {
   "cell_type": "code",
   "execution_count": 18,
   "metadata": {},
   "outputs": [],
   "source": [
    "#ALL LOADED SUCCESFULLY, CAN DELETE TEMPORARY DataFrames\n",
    "del aisles,departments,products,orders,orders_train,orders_prior"
   ]
  },
  {
   "cell_type": "markdown",
   "metadata": {},
   "source": [
    "## Creation of combined tables\n"
   ]
  },
  {
   "cell_type": "markdown",
   "metadata": {},
   "source": [
    "First, I will create \"productscombined\" table, which will be a combination of department, aisle and products, so I have \n",
    "all products information in one table."
   ]
  },
  {
   "cell_type": "code",
   "execution_count": 19,
   "metadata": {},
   "outputs": [
    {
     "name": "stdout",
     "output_type": "stream",
     "text": [
      "\n",
      "Time for productscombined 0.749714\n",
      "\n",
      "Top5_productscombined \n",
      "    index  product_id                                       product_name  \\\n",
      "0      1           1                         Chocolate Sandwich Cookies   \n",
      "1      2           2                                   All-Seasons Salt   \n",
      "2      3           3               Robust Golden Unsweetened Oolong Tea   \n",
      "3      4           4  Smart Ones Classic Favorites Mini Rigatoni Wit...   \n",
      "4      5           5                          Green Chile Anytime Sauce   \n",
      "\n",
      "   aisle_id  department_id department                       aisle  \n",
      "0        61             19     snacks               cookies cakes  \n",
      "1       104             13     pantry           spices seasonings  \n",
      "2        94              7  beverages                         tea  \n",
      "3        38              1     frozen                frozen meals  \n",
      "4         5             13     pantry  marinades meat preparation   \n",
      "\n",
      "\n",
      "Number of products in database \n",
      "    COUNT (product_id)\n",
      "0               49688 \n",
      "\n",
      "\n"
     ]
    }
   ],
   "source": [
    "#merge tables department, aisle, products and call it productscombined\n",
    "\n",
    "#add a time counter, how long it takes to create a table\n",
    "start_time1 = datetime.now()\n",
    "drop_productscombined_table=\"\"\" DROP TABLE IF EXISTS productscombined;\"\"\"\n",
    "conn.execute(drop_productscombined_table)\n",
    "joinprod_sql = \"\"\"\\\n",
    "    CREATE TABLE productscombined AS\n",
    "    SELECT p.*, d.department, a.aisle\n",
    "    FROM products p\n",
    "    INNER JOIN departments d ON p.department_id = d.department_id\n",
    "    INNER JOIN aisles a ON p.aisle_id = a.aisle_id;\n",
    "    \"\"\"\n",
    "conn.execute(joinprod_sql)\n",
    "#TO QC what we loaded, first 5 rows\n",
    "productscombined_qc = pd.read_sql_query(\"SELECT * FROM productscombined Limit 5;\", conn)\n",
    "end_time1 = datetime.now()\n",
    "print('\\nTime for productscombined {}\\n'.format((end_time1-start_time1).total_seconds()))\n",
    "print(\"Top5_productscombined \\n\", productscombined_qc.head(),\"\\n\\n\")\n",
    "\n",
    "count_merge1 = pd.read_sql_query(\"SELECT COUNT (product_id) FROM productscombined ;\", conn)\n",
    "#print('Total number of orders prior: {}'.format(orders_prior.shape[0]))\n",
    "print(\"Number of products in database \\n\",count_merge1,\"\\n\\n\")"
   ]
  },
  {
   "cell_type": "markdown",
   "metadata": {},
   "source": [
    "Secondly, I will create a table orderscombined which will be a combination of\n",
    "order_products_prior and orders.\n"
   ]
  },
  {
   "cell_type": "code",
   "execution_count": 20,
   "metadata": {},
   "outputs": [
    {
     "name": "stdout",
     "output_type": "stream",
     "text": [
      "\n",
      "Time for orderscombined1 1.89819\n",
      "\n",
      "Top5_orderscombined1 Table \n",
      "    index  order_id  user_id eval_set  order_number  order_dow  \\\n",
      "0     71     23391        7    prior            17          0   \n",
      "1     71     23391        7    prior            17          0   \n",
      "2     71     23391        7    prior            17          0   \n",
      "3     71     23391        7    prior            17          0   \n",
      "4     71     23391        7    prior            17          0   \n",
      "\n",
      "   order_hour_of_day  days_since_prior_order  product_id  add_to_cart_order  \\\n",
      "0                 10                    28.0       13198                  1   \n",
      "1                 10                    28.0       42803                  2   \n",
      "2                 10                    28.0        8277                  3   \n",
      "3                 10                    28.0       37602                  4   \n",
      "4                 10                    28.0       40852                  5   \n",
      "\n",
      "   reordered  \n",
      "0          1  \n",
      "1          1  \n",
      "2          1  \n",
      "3          1  \n",
      "4          1   \n",
      "\n",
      "\n",
      "Total number of products in orders in database \n",
      "    COUNT (product_id)\n",
      "0               72909 \n",
      "\n",
      "\n"
     ]
    }
   ],
   "source": [
    "#Combine orders and the orders_prior dataframe\n",
    "\n",
    "start_time2 = datetime.now()\n",
    "drop_orderscombined1_table=\"\"\" DROP TABLE IF EXISTS orderscombined1;\"\"\"\n",
    "conn.execute(drop_orderscombined1_table)\n",
    "joinordersprior_sql1 = \"\"\"\\\n",
    "    CREATE TABLE orderscombined1 AS\n",
    "    SELECT o.*, op.product_id, op.add_to_cart_order,op.reordered\n",
    "    FROM orders o\n",
    "    INNER JOIN order_products__prior op ON o.order_id = op.order_id;\n",
    "    \"\"\"\n",
    "\n",
    "\n",
    "\n",
    "conn.execute(joinordersprior_sql1)\n",
    "#QC what has been loaded in SQL\n",
    "orderscombined1 = pd.read_sql_query(\"SELECT * FROM orderscombined1 Limit 5;\", conn)\n",
    "\n",
    "#create indexes to make life easier latter and do requests much faster\n",
    "indexcolumns = [col for col in orderscombined1.columns if col.find(\"_id\")>-1]\n",
    "for col in indexcolumns:\n",
    "    createindexes=\"CREATE INDEX index_%s ON orderscombined1 (%s);\" %(col+\"_orderscombined1\",col)\n",
    "    conn.execute(createindexes)         \n",
    "        \n",
    "end_time2 = datetime.now()\n",
    "print('\\nTime for orderscombined1 {}\\n'.format((end_time2-start_time2).total_seconds()))\n",
    "print(\"Top5_orderscombined1 Table \\n\", orderscombined1.head(),\"\\n\\n\")\n",
    "\n",
    "count_merge1 = pd.read_sql_query(\"SELECT COUNT (product_id) FROM orderscombined1 ;\", conn)\n",
    "#print('Total number of orders prior: {}'.format(orders_prior.shape[0]))\n",
    "print(\"Total number of products in orders in database \\n\",count_merge1,\"\\n\\n\")"
   ]
  },
  {
   "cell_type": "markdown",
   "metadata": {},
   "source": [
    "Only 72909 product_id have mathing records in both tables orders and orders_prior\n"
   ]
  },
  {
   "cell_type": "code",
   "execution_count": 21,
   "metadata": {},
   "outputs": [
    {
     "name": "stdout",
     "output_type": "stream",
     "text": [
      "\n",
      "Time for orderscombined2 2.931859\n",
      "\n",
      "Top5_orderscombined2 Table \n",
      "    index  order_id  user_id eval_set  order_number  order_dow  \\\n",
      "0     11   1187899        1    train            11          4   \n",
      "1     11   1187899        1    train            11          4   \n",
      "2     11   1187899        1    train            11          4   \n",
      "3     11   1187899        1    train            11          4   \n",
      "4     11   1187899        1    train            11          4   \n",
      "\n",
      "   order_hour_of_day  days_since_prior_order  product_id  add_to_cart_order  \\\n",
      "0                  8                    14.0         196                  1   \n",
      "1                  8                    14.0       25133                  2   \n",
      "2                  8                    14.0       38928                  3   \n",
      "3                  8                    14.0       26405                  4   \n",
      "4                  8                    14.0       39657                  5   \n",
      "\n",
      "   reordered  \n",
      "0          1  \n",
      "1          1  \n",
      "2          1  \n",
      "3          1  \n",
      "4          1   \n",
      "\n",
      "\n",
      "Total number of products in orders in database \n",
      "    COUNT (user_id)\n",
      "0            73575 \n",
      "\n",
      "\n"
     ]
    }
   ],
   "source": [
    "#Combine orders and the order_products__train dataframe\n",
    "\n",
    "\n",
    "start_time3 = datetime.now()\n",
    "drop_orderscombined2_table=\"\"\" DROP TABLE IF EXISTS orderscombined2;\"\"\"\n",
    "conn.execute(drop_orderscombined2_table)\n",
    "joinordersprior_sql2 = \"\"\"\\\n",
    "    CREATE TABLE orderscombined2 AS\n",
    "    SELECT o.*, op.product_id, op.add_to_cart_order,op.reordered\n",
    "    FROM orders o\n",
    "    INNER JOIN order_products__train op ON o.order_id = op.order_id;\n",
    "    \"\"\"\n",
    "\n",
    "conn.execute(joinordersprior_sql2)\n",
    "#QC what has been loaded in SQL\n",
    "orderscombined2 = pd.read_sql_query(\"SELECT * FROM orderscombined2 Limit 5;\", conn)\n",
    "\n",
    "#create indexes to make life easier latter and do requests much faster\n",
    "indexcolumns = [col for col in orderscombined2.columns if col.find(\"_id\")>-1]\n",
    "for col in indexcolumns:\n",
    "    createindexes=\"CREATE INDEX index_%s ON orderscombined2 (%s);\" %(col+\"_orderscombined2\",col)\n",
    "    conn.execute(createindexes)              \n",
    "        \n",
    "end_time3 = datetime.now()\n",
    "print('\\nTime for orderscombined2 {}\\n'.format((end_time3-start_time3).total_seconds()))\n",
    "print(\"Top5_orderscombined2 Table \\n\", orderscombined2.head(),\"\\n\\n\")\n",
    "\n",
    "count_merge2 = pd.read_sql_query(\"SELECT COUNT (user_id) FROM orderscombined2 ;\", conn)\n",
    "#print('Total number of orders prior: {}'.format(orders_prior.shape[0]))\n",
    "print(\"Total number of products in orders in database \\n\",count_merge2,\"\\n\\n\")"
   ]
  },
  {
   "cell_type": "markdown",
   "metadata": {},
   "source": [
    "Only 73575 product_id have mathing records in both tables orders and orders_train"
   ]
  },
  {
   "cell_type": "markdown",
   "metadata": {},
   "source": [
    "Lets count number of user_id and their order_id for which we need to predict which products will they order in next purchase"
   ]
  },
  {
   "cell_type": "code",
   "execution_count": 22,
   "metadata": {},
   "outputs": [
    {
     "name": "stdout",
     "output_type": "stream",
     "text": [
      "Top5_ orders test Table \n",
      "    index  order_id  user_id eval_set  order_number  order_dow  \\\n",
      "0     39   2774568        3     test            13          5   \n",
      "1     45    329954        4     test             6          3   \n",
      "2     54   1528013        6     test             4          3   \n",
      "3     97   1376945       11     test             8          6   \n",
      "4    103   1356845       12     test             6          1   \n",
      "\n",
      "   order_hour_of_day  days_since_prior_order  \n",
      "0                 15                    11.0  \n",
      "1                 12                    30.0  \n",
      "2                 16                    22.0  \n",
      "3                 11                     8.0  \n",
      "4                 20                    30.0   \n",
      "\n",
      "\n",
      "Total number of products in orders in database \n",
      "    COUNT (user_id)\n",
      "0            10931 \n",
      "\n",
      "\n"
     ]
    }
   ],
   "source": [
    "count_table = pd.read_sql_query(\"SELECT * FROM orders WHERE eval_set='test' Limit 5;\", conn)\n",
    "print(\"Top5_ orders test Table \\n\", count_table.head(),\"\\n\\n\")\n",
    "\n",
    "\n",
    "count2_merge1 = pd.read_sql_query(\"SELECT COUNT (user_id) FROM orders WHERE eval_set='test';\", conn)\n",
    "print(\"Total number of products in orders in database \\n\",count2_merge1,\"\\n\\n\")\n",
    "\n"
   ]
  },
  {
   "cell_type": "markdown",
   "metadata": {},
   "source": [
    "For 10931 'order_id' and 'user_id' numbers in test set from table orders we need to predict which products will be reordered\n",
    "based on number of dates since previos order, day of the week, and hour of the day and which products a user_id selects first in their basket."
   ]
  },
  {
   "cell_type": "markdown",
   "metadata": {},
   "source": [
    "Now, I will merge data from both combined tables for exploratory analysis\n",
    "Firstly, I will merge productscombined table and ordercombined1 (containing prior orders)  NAME this table prioralldata\n",
    "Secondly, I will merge productscombined table and ordercombined2 (containing train orders) NAME this table trainalldata"
   ]
  },
  {
   "cell_type": "code",
   "execution_count": 23,
   "metadata": {
    "scrolled": true
   },
   "outputs": [
    {
     "name": "stdout",
     "output_type": "stream",
     "text": [
      "\n",
      "Time for prioralldata table 2.072801\n",
      "\n",
      "Prioralldata Table \n",
      "      index  order_id  user_id eval_set  order_number  order_dow  \\\n",
      "0   276465     19989     4122    prior            11          2   \n",
      "1  1894012     49629    11119    prior            18          1   \n",
      "2  6298219     52768    21054    prior             3          1   \n",
      "3  7404755     38944    22561    prior             4          6   \n",
      "4   653438     48889     6268    prior            39          1   \n",
      "\n",
      "   order_hour_of_day  days_since_prior_order  product_id  add_to_cart_order  \\\n",
      "0                  7                     8.0           1                  1   \n",
      "1                 14                    30.0           1                  1   \n",
      "2                 10                    30.0           1                  1   \n",
      "3                 21                    23.0           1                  6   \n",
      "4                 10                     3.0          10                  2   \n",
      "\n",
      "   reordered  product_id:1                                    product_name  \\\n",
      "0          0             1                      Chocolate Sandwich Cookies   \n",
      "1          0             1                      Chocolate Sandwich Cookies   \n",
      "2          1             1                      Chocolate Sandwich Cookies   \n",
      "3          0             1                      Chocolate Sandwich Cookies   \n",
      "4          1            10  Sparkling Orange Juice & Prickly Pear Beverage   \n",
      "\n",
      "  department                          aisle  \n",
      "0     snacks                  cookies cakes  \n",
      "1     snacks                  cookies cakes  \n",
      "2     snacks                  cookies cakes  \n",
      "3     snacks                  cookies cakes  \n",
      "4  beverages  water seltzer sparkling water   \n",
      "\n",
      "\n",
      "Count orders prior table\n",
      "    COUNT (order_id)\n",
      "0             72909 \n",
      "\n",
      "\n"
     ]
    }
   ],
   "source": [
    "#merge data from 2 combined tables\n",
    "start_time3 = datetime.now()\n",
    "drop_prior_merge=\"\"\" DROP TABLE IF EXISTS prioralldata;\"\"\"\n",
    "conn.execute(drop_prior_merge)\n",
    "join_prioralldata_sql = \"\"\"\\\n",
    "    CREATE TABLE prioralldata AS\n",
    "    SELECT o.*, gd.product_id, gd.product_name,gd.department,gd.aisle\n",
    "    FROM orderscombined1 o\n",
    "    INNER JOIN productscombined gd\n",
    "    ON o.product_id = gd.product_id;\n",
    "    \"\"\"\n",
    "conn.execute(join_prioralldata_sql)\n",
    "priorall_qc = pd.read_sql_query(\"SELECT * FROM prioralldata Limit 5;\", conn)\n",
    "\n",
    "#create indexes, so requests will run much faster latter\n",
    "indexcolumns = [col for col in orderscombined1.columns if col.find(\"_id\")>-1]\n",
    "for col in indexcolumns:\n",
    "    createindexes=\"CREATE INDEX index_%s on prioralldata (%s);\" %(col+\"_prioralldata\",col)\n",
    "    conn.execute(createindexes)        \n",
    "        \n",
    "end_time3 = datetime.now()\n",
    "print('\\nTime for prioralldata table {}\\n'.format((end_time3-start_time3).total_seconds()))\n",
    "print(\"Prioralldata Table \\n\", priorall_qc.head(),\"\\n\\n\")\n",
    "\n",
    "#COUNT NUMBRE OF RECORDS IN FULL OUTER JOIN TABLE\n",
    "count_prior = pd.read_sql_query(\"SELECT COUNT (order_id) FROM prioralldata ;\", conn)\n",
    "#print('Total number of orders prior: {}'.format(orders_prior.shape[0]))\n",
    "print(\"Count orders prior table\\n\",count_prior,\"\\n\\n\")\n",
    "\n",
    "\n",
    "#delete all temporary QC outputs\n",
    "del priorall_qc, count_prior"
   ]
  },
  {
   "cell_type": "code",
   "execution_count": 24,
   "metadata": {},
   "outputs": [
    {
     "name": "stdout",
     "output_type": "stream",
     "text": [
      "Top5_ orders for specific user \n",
      "    index  order_id  user_id eval_set  order_number  order_dow  \\\n",
      "0     39   2774568        3     test            13          5   \n",
      "1     45    329954        4     test             6          3   \n",
      "2     54   1528013        6     test             4          3   \n",
      "3     97   1376945       11     test             8          6   \n",
      "4    103   1356845       12     test             6          1   \n",
      "\n",
      "   order_hour_of_day  days_since_prior_order  \n",
      "0                 15                    11.0  \n",
      "1                 12                    30.0  \n",
      "2                 16                    22.0  \n",
      "3                 11                     8.0  \n",
      "4                 20                    30.0   \n",
      "\n",
      "\n",
      "   COUNT (eval_set)\n",
      "0             10931\n",
      "############################################\n"
     ]
    }
   ],
   "source": [
    "count_table = pd.read_sql_query(\"SELECT * FROM orders WHERE eval_set='test' Limit 5;\", conn)\n",
    "print(\"Top5_ orders for specific user \\n\", count_table.head(),\"\\n\\n\")\n",
    "\n",
    "count_test = pd.read_sql_query(\"SELECT COUNT (eval_set) FROM orders WHERE eval_set='test' ;\", conn)\n",
    "print(count_test)\n",
    "print(\"############################################\")\n"
   ]
  },
  {
   "cell_type": "code",
   "execution_count": 25,
   "metadata": {},
   "outputs": [
    {
     "name": "stdout",
     "output_type": "stream",
     "text": [
      "\n",
      "Time for trainalldata table 2.520101\n",
      "\n",
      "Trainalldata Table \n",
      "      index  order_id  user_id eval_set  order_number  order_dow  \\\n",
      "0    22024     63770      751    train             7          2   \n",
      "1    54766      6695     1540    train            29          1   \n",
      "2    95767    767323     2221    train            24          5   \n",
      "3  1521190    304053     9694    train            24          4   \n",
      "4  2759685   1028477    13916    train             8          3   \n",
      "\n",
      "   order_hour_of_day  days_since_prior_order  product_id  add_to_cart_order  \\\n",
      "0                  6                    30.0           1                  4   \n",
      "1                  1                     8.0           1                  7   \n",
      "2                 19                    16.0           1                  5   \n",
      "3                 11                     2.0           1                  3   \n",
      "4                  9                    23.0           1                  2   \n",
      "\n",
      "   reordered  product_id:1                product_name department  \\\n",
      "0          0             1  Chocolate Sandwich Cookies     snacks   \n",
      "1          1             1  Chocolate Sandwich Cookies     snacks   \n",
      "2          0             1  Chocolate Sandwich Cookies     snacks   \n",
      "3          1             1  Chocolate Sandwich Cookies     snacks   \n",
      "4          0             1  Chocolate Sandwich Cookies     snacks   \n",
      "\n",
      "           aisle  \n",
      "0  cookies cakes  \n",
      "1  cookies cakes  \n",
      "2  cookies cakes  \n",
      "3  cookies cakes  \n",
      "4  cookies cakes   \n",
      "\n",
      "\n",
      "Count orders train table\n",
      "    COUNT (order_id)\n",
      "0             73575 \n",
      "\n",
      "\n"
     ]
    }
   ],
   "source": [
    "start_time3 = datetime.now()\n",
    "drop_prior_merge=\"\"\" DROP TABLE IF EXISTS trainalldata;\"\"\"\n",
    "conn.execute(drop_prior_merge)\n",
    "join_trainalldata_sql = \"\"\"\\\n",
    "    CREATE TABLE trainalldata AS\n",
    "    SELECT o.*, gd.product_id, gd.product_name,gd.department,gd.aisle\n",
    "    FROM orderscombined2 o\n",
    "    INNER JOIN productscombined gd\n",
    "    ON o.product_id = gd.product_id;\n",
    "    \"\"\"\n",
    "conn.execute(join_trainalldata_sql)\n",
    "trainall_qc = pd.read_sql_query(\"SELECT * FROM trainalldata Limit 5;\", conn)\n",
    "\n",
    "#create indexes, so requests will run much faster latter\n",
    "indexcolumns = [col for col in orderscombined2.columns if col.find(\"_id\")>-1]\n",
    "for col in indexcolumns:\n",
    "    createindexes=\"CREATE INDEX index_%s on trainalldata (%s);\" %(col+\"_trainalldata\",col)\n",
    "    conn.execute(createindexes)        \n",
    "        \n",
    "end_time3 = datetime.now()\n",
    "print('\\nTime for trainalldata table {}\\n'.format((end_time3-start_time3).total_seconds()))\n",
    "print(\"Trainalldata Table \\n\", trainall_qc.head(),\"\\n\\n\")\n",
    "\n",
    "#COUNT NUMBRE OF RECORDS IN FULL OUTER JOIN TABLE\n",
    "count_train = pd.read_sql_query(\"SELECT COUNT (order_id) FROM trainalldata ;\", conn)\n",
    "#print('Total number of orders prior: {}'.format(orders_prior.shape[0]))\n",
    "print(\"Count orders train table\\n\",count_train,\"\\n\\n\")\n",
    "\n",
    "\n",
    "#delete all temporary QC outputs\n",
    "del trainall_qc, count_train"
   ]
  },
  {
   "cell_type": "markdown",
   "metadata": {
    "collapsed": true
   },
   "source": [
    "## Visual data analysis"
   ]
  },
  {
   "cell_type": "code",
   "execution_count": 26,
   "metadata": {},
   "outputs": [],
   "source": [
    "#first read data from SQL database to DataFrame\n",
    "orders = pd.read_sql_query(\"SELECT order_id, order_dow,days_since_prior_order,order_hour_of_day\\\n",
    "                            FROM orders;\", conn)\n",
    "productscombined = pd.read_sql_query(\"SELECT product_id,product_name,department,aisle FROM productscombined;\", conn)\n",
    "#dataset for training\n",
    "priorall =  pd.read_sql_query(\"SELECT order_id, order_dow,days_since_prior_order,\\\n",
    "                                    order_hour_of_day, order_number, add_to_cart_order,user_id\\\n",
    "                                    product_id, product_name,department, aisle,reordered\\\n",
    "                                    FROM prioralldata;\", conn)\n",
    "#final testing dataset\n",
    "testdata=pd.read_sql_query(\"SELECT order_id, order_dow,days_since_prior_order,\\\n",
    "                                    order_hour_of_day, order_number\\\n",
    "                                    FROM orders WHERE eval_set='test';\", conn)\n",
    "\n",
    "\n",
    "trainall =  pd.read_sql_query(\"SELECT order_id, order_dow,days_since_prior_order,\\\n",
    "                                    order_hour_of_day,\\\n",
    "                                    product_id, product_name,department, aisle,reordered\\\n",
    "                                    FROM trainalldata;\", conn)\n",
    "\n",
    "\n",
    "#create 3 counters count_by_prod, count_by_isle,count_by_dep\n",
    "\n",
    "tmp_1 = pd.DataFrame(priorall.groupby(['product_name']).agg({'order_id':pd.Series.nunique})\n",
    "                         .rename(columns={'order_id':'count_prod'})).reset_index()\n",
    "\n",
    "\n",
    "tmp_2 = pd.DataFrame(priorall.groupby(['department']).agg({'order_id':pd.Series.nunique})\n",
    "                         .rename(columns={'order_id':'count_dep'})).reset_index()\n",
    "\n",
    "\n",
    "tmp_3 = pd.DataFrame(priorall.groupby(['aisle']).agg({'order_id':pd.Series.nunique})\n",
    "                         .rename(columns={'order_id':'count_aisle'})).reset_index()\n",
    "\n"
   ]
  },
  {
   "cell_type": "code",
   "execution_count": 27,
   "metadata": {},
   "outputs": [
    {
     "data": {
      "text/html": [
       "<div>\n",
       "<style>\n",
       "    .dataframe thead tr:only-child th {\n",
       "        text-align: right;\n",
       "    }\n",
       "\n",
       "    .dataframe thead th {\n",
       "        text-align: left;\n",
       "    }\n",
       "\n",
       "    .dataframe tbody tr th {\n",
       "        vertical-align: top;\n",
       "    }\n",
       "</style>\n",
       "<table border=\"1\" class=\"dataframe\">\n",
       "  <thead>\n",
       "    <tr style=\"text-align: right;\">\n",
       "      <th></th>\n",
       "      <th>order_id</th>\n",
       "      <th>order_dow</th>\n",
       "      <th>days_since_prior_order</th>\n",
       "      <th>order_hour_of_day</th>\n",
       "      <th>order_number</th>\n",
       "    </tr>\n",
       "  </thead>\n",
       "  <tbody>\n",
       "    <tr>\n",
       "      <th>0</th>\n",
       "      <td>2774568</td>\n",
       "      <td>5</td>\n",
       "      <td>11.0</td>\n",
       "      <td>15</td>\n",
       "      <td>13</td>\n",
       "    </tr>\n",
       "    <tr>\n",
       "      <th>1</th>\n",
       "      <td>329954</td>\n",
       "      <td>3</td>\n",
       "      <td>30.0</td>\n",
       "      <td>12</td>\n",
       "      <td>6</td>\n",
       "    </tr>\n",
       "    <tr>\n",
       "      <th>2</th>\n",
       "      <td>1528013</td>\n",
       "      <td>3</td>\n",
       "      <td>22.0</td>\n",
       "      <td>16</td>\n",
       "      <td>4</td>\n",
       "    </tr>\n",
       "  </tbody>\n",
       "</table>\n",
       "</div>"
      ],
      "text/plain": [
       "   order_id  order_dow  days_since_prior_order  order_hour_of_day  \\\n",
       "0   2774568          5                    11.0                 15   \n",
       "1    329954          3                    30.0                 12   \n",
       "2   1528013          3                    22.0                 16   \n",
       "\n",
       "   order_number  \n",
       "0            13  \n",
       "1             6  \n",
       "2             4  "
      ]
     },
     "execution_count": 27,
     "metadata": {},
     "output_type": "execute_result"
    }
   ],
   "source": [
    "testdata.head(3)"
   ]
  },
  {
   "cell_type": "code",
   "execution_count": 28,
   "metadata": {},
   "outputs": [
    {
     "data": {
      "text/html": [
       "<div>\n",
       "<style>\n",
       "    .dataframe thead tr:only-child th {\n",
       "        text-align: right;\n",
       "    }\n",
       "\n",
       "    .dataframe thead th {\n",
       "        text-align: left;\n",
       "    }\n",
       "\n",
       "    .dataframe tbody tr th {\n",
       "        vertical-align: top;\n",
       "    }\n",
       "</style>\n",
       "<table border=\"1\" class=\"dataframe\">\n",
       "  <thead>\n",
       "    <tr style=\"text-align: right;\">\n",
       "      <th></th>\n",
       "      <th>order_id</th>\n",
       "      <th>order_dow</th>\n",
       "      <th>days_since_prior_order</th>\n",
       "      <th>order_hour_of_day</th>\n",
       "      <th>order_number</th>\n",
       "      <th>add_to_cart_order</th>\n",
       "      <th>product_id</th>\n",
       "      <th>product_name</th>\n",
       "      <th>department</th>\n",
       "      <th>aisle</th>\n",
       "      <th>reordered</th>\n",
       "    </tr>\n",
       "  </thead>\n",
       "  <tbody>\n",
       "    <tr>\n",
       "      <th>0</th>\n",
       "      <td>19989</td>\n",
       "      <td>2</td>\n",
       "      <td>8.0</td>\n",
       "      <td>7</td>\n",
       "      <td>11</td>\n",
       "      <td>1</td>\n",
       "      <td>4122</td>\n",
       "      <td>Chocolate Sandwich Cookies</td>\n",
       "      <td>snacks</td>\n",
       "      <td>cookies cakes</td>\n",
       "      <td>0</td>\n",
       "    </tr>\n",
       "    <tr>\n",
       "      <th>1</th>\n",
       "      <td>49629</td>\n",
       "      <td>1</td>\n",
       "      <td>30.0</td>\n",
       "      <td>14</td>\n",
       "      <td>18</td>\n",
       "      <td>1</td>\n",
       "      <td>11119</td>\n",
       "      <td>Chocolate Sandwich Cookies</td>\n",
       "      <td>snacks</td>\n",
       "      <td>cookies cakes</td>\n",
       "      <td>0</td>\n",
       "    </tr>\n",
       "    <tr>\n",
       "      <th>2</th>\n",
       "      <td>52768</td>\n",
       "      <td>1</td>\n",
       "      <td>30.0</td>\n",
       "      <td>10</td>\n",
       "      <td>3</td>\n",
       "      <td>1</td>\n",
       "      <td>21054</td>\n",
       "      <td>Chocolate Sandwich Cookies</td>\n",
       "      <td>snacks</td>\n",
       "      <td>cookies cakes</td>\n",
       "      <td>1</td>\n",
       "    </tr>\n",
       "    <tr>\n",
       "      <th>3</th>\n",
       "      <td>38944</td>\n",
       "      <td>6</td>\n",
       "      <td>23.0</td>\n",
       "      <td>21</td>\n",
       "      <td>4</td>\n",
       "      <td>6</td>\n",
       "      <td>22561</td>\n",
       "      <td>Chocolate Sandwich Cookies</td>\n",
       "      <td>snacks</td>\n",
       "      <td>cookies cakes</td>\n",
       "      <td>0</td>\n",
       "    </tr>\n",
       "    <tr>\n",
       "      <th>4</th>\n",
       "      <td>48889</td>\n",
       "      <td>1</td>\n",
       "      <td>3.0</td>\n",
       "      <td>10</td>\n",
       "      <td>39</td>\n",
       "      <td>2</td>\n",
       "      <td>6268</td>\n",
       "      <td>Sparkling Orange Juice &amp; Prickly Pear Beverage</td>\n",
       "      <td>beverages</td>\n",
       "      <td>water seltzer sparkling water</td>\n",
       "      <td>1</td>\n",
       "    </tr>\n",
       "  </tbody>\n",
       "</table>\n",
       "</div>"
      ],
      "text/plain": [
       "   order_id  order_dow  days_since_prior_order  order_hour_of_day  \\\n",
       "0     19989          2                     8.0                  7   \n",
       "1     49629          1                    30.0                 14   \n",
       "2     52768          1                    30.0                 10   \n",
       "3     38944          6                    23.0                 21   \n",
       "4     48889          1                     3.0                 10   \n",
       "\n",
       "   order_number  add_to_cart_order  product_id  \\\n",
       "0            11                  1        4122   \n",
       "1            18                  1       11119   \n",
       "2             3                  1       21054   \n",
       "3             4                  6       22561   \n",
       "4            39                  2        6268   \n",
       "\n",
       "                                     product_name department  \\\n",
       "0                      Chocolate Sandwich Cookies     snacks   \n",
       "1                      Chocolate Sandwich Cookies     snacks   \n",
       "2                      Chocolate Sandwich Cookies     snacks   \n",
       "3                      Chocolate Sandwich Cookies     snacks   \n",
       "4  Sparkling Orange Juice & Prickly Pear Beverage  beverages   \n",
       "\n",
       "                           aisle  reordered  \n",
       "0                  cookies cakes          0  \n",
       "1                  cookies cakes          0  \n",
       "2                  cookies cakes          1  \n",
       "3                  cookies cakes          0  \n",
       "4  water seltzer sparkling water          1  "
      ]
     },
     "execution_count": 28,
     "metadata": {},
     "output_type": "execute_result"
    }
   ],
   "source": [
    "priorall.head()"
   ]
  },
  {
   "cell_type": "code",
   "execution_count": 29,
   "metadata": {},
   "outputs": [],
   "source": [
    "#CREATE top 10 most popular products by all product_name, within the department, within the isle\n",
    "top_10_prod = tmp_1.nlargest(10,'count_prod')['product_name']\n",
    "top_10_dep = tmp_2.nlargest(10,'count_dep')['department']\n",
    "top_10_aisle = tmp_3.nlargest(10,'count_aisle')['aisle']\n",
    "\n",
    "tmp_4= priorall[priorall['product_name'].isin(top_10_prod)]\n",
    "tmp_5= priorall[priorall['department'].isin(top_10_dep)]\n",
    "tmp_6= priorall[priorall['aisle'].isin(top_10_aisle)]\n",
    "\n",
    "\n"
   ]
  },
  {
   "cell_type": "code",
   "execution_count": 30,
   "metadata": {},
   "outputs": [
    {
     "data": {
      "text/html": [
       "<div>\n",
       "<style>\n",
       "    .dataframe thead tr:only-child th {\n",
       "        text-align: right;\n",
       "    }\n",
       "\n",
       "    .dataframe thead th {\n",
       "        text-align: left;\n",
       "    }\n",
       "\n",
       "    .dataframe tbody tr th {\n",
       "        vertical-align: top;\n",
       "    }\n",
       "</style>\n",
       "<table border=\"1\" class=\"dataframe\">\n",
       "  <thead>\n",
       "    <tr style=\"text-align: right;\">\n",
       "      <th></th>\n",
       "      <th>order_id</th>\n",
       "      <th>order_dow</th>\n",
       "      <th>days_since_prior_order</th>\n",
       "      <th>order_hour_of_day</th>\n",
       "      <th>order_number</th>\n",
       "      <th>add_to_cart_order</th>\n",
       "      <th>product_id</th>\n",
       "      <th>product_name</th>\n",
       "      <th>department</th>\n",
       "      <th>aisle</th>\n",
       "      <th>reordered</th>\n",
       "    </tr>\n",
       "  </thead>\n",
       "  <tbody>\n",
       "    <tr>\n",
       "      <th>0</th>\n",
       "      <td>19989</td>\n",
       "      <td>2</td>\n",
       "      <td>8.0</td>\n",
       "      <td>7</td>\n",
       "      <td>11</td>\n",
       "      <td>1</td>\n",
       "      <td>4122</td>\n",
       "      <td>Chocolate Sandwich Cookies</td>\n",
       "      <td>snacks</td>\n",
       "      <td>cookies cakes</td>\n",
       "      <td>0</td>\n",
       "    </tr>\n",
       "    <tr>\n",
       "      <th>1</th>\n",
       "      <td>49629</td>\n",
       "      <td>1</td>\n",
       "      <td>30.0</td>\n",
       "      <td>14</td>\n",
       "      <td>18</td>\n",
       "      <td>1</td>\n",
       "      <td>11119</td>\n",
       "      <td>Chocolate Sandwich Cookies</td>\n",
       "      <td>snacks</td>\n",
       "      <td>cookies cakes</td>\n",
       "      <td>0</td>\n",
       "    </tr>\n",
       "    <tr>\n",
       "      <th>2</th>\n",
       "      <td>52768</td>\n",
       "      <td>1</td>\n",
       "      <td>30.0</td>\n",
       "      <td>10</td>\n",
       "      <td>3</td>\n",
       "      <td>1</td>\n",
       "      <td>21054</td>\n",
       "      <td>Chocolate Sandwich Cookies</td>\n",
       "      <td>snacks</td>\n",
       "      <td>cookies cakes</td>\n",
       "      <td>1</td>\n",
       "    </tr>\n",
       "    <tr>\n",
       "      <th>3</th>\n",
       "      <td>38944</td>\n",
       "      <td>6</td>\n",
       "      <td>23.0</td>\n",
       "      <td>21</td>\n",
       "      <td>4</td>\n",
       "      <td>6</td>\n",
       "      <td>22561</td>\n",
       "      <td>Chocolate Sandwich Cookies</td>\n",
       "      <td>snacks</td>\n",
       "      <td>cookies cakes</td>\n",
       "      <td>0</td>\n",
       "    </tr>\n",
       "    <tr>\n",
       "      <th>4</th>\n",
       "      <td>48889</td>\n",
       "      <td>1</td>\n",
       "      <td>3.0</td>\n",
       "      <td>10</td>\n",
       "      <td>39</td>\n",
       "      <td>2</td>\n",
       "      <td>6268</td>\n",
       "      <td>Sparkling Orange Juice &amp; Prickly Pear Beverage</td>\n",
       "      <td>beverages</td>\n",
       "      <td>water seltzer sparkling water</td>\n",
       "      <td>1</td>\n",
       "    </tr>\n",
       "  </tbody>\n",
       "</table>\n",
       "</div>"
      ],
      "text/plain": [
       "   order_id  order_dow  days_since_prior_order  order_hour_of_day  \\\n",
       "0     19989          2                     8.0                  7   \n",
       "1     49629          1                    30.0                 14   \n",
       "2     52768          1                    30.0                 10   \n",
       "3     38944          6                    23.0                 21   \n",
       "4     48889          1                     3.0                 10   \n",
       "\n",
       "   order_number  add_to_cart_order  product_id  \\\n",
       "0            11                  1        4122   \n",
       "1            18                  1       11119   \n",
       "2             3                  1       21054   \n",
       "3             4                  6       22561   \n",
       "4            39                  2        6268   \n",
       "\n",
       "                                     product_name department  \\\n",
       "0                      Chocolate Sandwich Cookies     snacks   \n",
       "1                      Chocolate Sandwich Cookies     snacks   \n",
       "2                      Chocolate Sandwich Cookies     snacks   \n",
       "3                      Chocolate Sandwich Cookies     snacks   \n",
       "4  Sparkling Orange Juice & Prickly Pear Beverage  beverages   \n",
       "\n",
       "                           aisle  reordered  \n",
       "0                  cookies cakes          0  \n",
       "1                  cookies cakes          0  \n",
       "2                  cookies cakes          1  \n",
       "3                  cookies cakes          0  \n",
       "4  water seltzer sparkling water          1  "
      ]
     },
     "execution_count": 30,
     "metadata": {},
     "output_type": "execute_result"
    }
   ],
   "source": [
    "priorall.head()"
   ]
  },
  {
   "cell_type": "code",
   "execution_count": 31,
   "metadata": {
    "scrolled": false
   },
   "outputs": [
    {
     "data": {
      "image/png": "[encoded data removed]",
      "text/plain": [
       "<matplotlib.figure.Figure at 0x252bc38a208>"
      ]
     },
     "metadata": {},
     "output_type": "display_data"
    }
   ],
   "source": [
    "#Now I can start plotting graphs\n",
    "plt.figure(figsize=(12,4))\n",
    "sns.countplot(x=\"order_dow\",  data=orders,color=color[3])   \n",
    "plt.ylabel('Number of reorders', fontsize=12)\n",
    "plt.xlabel('Day of the week', fontsize=12)\n",
    "plt.xticks(rotation='vertical')\n",
    "plt.title(\"Distribution of reorders by day of the week -- orders table\", fontsize=15)\n",
    "plt.show()\n"
   ]
  },
  {
   "cell_type": "code",
   "execution_count": 32,
   "metadata": {},
   "outputs": [
    {
     "data": {
      "image/png": "[encoded data removed]",
      "text/plain": [
       "<matplotlib.figure.Figure at 0x252bda51320>"
      ]
     },
     "metadata": {},
     "output_type": "display_data"
    }
   ],
   "source": [
    "plt.figure(figsize=(12,4))\n",
    "sns.countplot(x=\"order_hour_of_day\",  data=orders,color=color[3])   \n",
    "plt.ylabel('Number of reorders', fontsize=12)\n",
    "plt.xlabel('Hour of day', fontsize=12)\n",
    "plt.xticks(rotation='vertical')\n",
    "plt.title(\"Distribution of reorders by hour of a day  -- orders table\", fontsize=15)\n",
    "plt.show()"
   ]
  },
  {
   "cell_type": "code",
   "execution_count": 33,
   "metadata": {},
   "outputs": [
    {
     "data": {
      "image/png": "[encoded data removed]",
      "text/plain": [
       "<matplotlib.figure.Figure at 0x252bd68cef0>"
      ]
     },
     "metadata": {},
     "output_type": "display_data"
    }
   ],
   "source": [
    "plt.figure(figsize=(12,4))\n",
    "sns.countplot(x='days_since_prior_order', data=orders, color=color[3])\n",
    "plt.ylabel('Number of orders', fontsize=12)\n",
    "plt.xlabel('Number of days since prior order', fontsize=12)\n",
    "plt.xticks(rotation='vertical')\n",
    "plt.title(\"Frequency distribution by days since prior order  - orders table\", fontsize=15)\n",
    "plt.show()"
   ]
  },
  {
   "cell_type": "code",
   "execution_count": 34,
   "metadata": {},
   "outputs": [
    {
     "data": {
      "image/png": "[encoded data removed]",
      "text/plain": [
       "<matplotlib.figure.Figure at 0x252beb627b8>"
      ]
     },
     "metadata": {},
     "output_type": "display_data"
    }
   ],
   "source": [
    "plt.figure(figsize=(12,4))\n",
    "sns.countplot(x=\"reordered\", data=priorall, color=color[3])\n",
    "plt.ylabel('Number of orders', fontsize=12)\n",
    "plt.xlabel('Orders or Reorders', fontsize=12)\n",
    "plt.xticks(rotation='vertical')\n",
    "plt.title(\"Distribuition of orders vs reorders orders_prior table\", fontsize=15)\n",
    "plt.show()"
   ]
  },
  {
   "cell_type": "code",
   "execution_count": 35,
   "metadata": {},
   "outputs": [
    {
     "data": {
      "image/png": "[encoded data removed]",
      "text/plain": [
       "<matplotlib.figure.Figure at 0x252bd987278>"
      ]
     },
     "metadata": {},
     "output_type": "display_data"
    }
   ],
   "source": [
    "plt.figure(figsize=(12,4))\n",
    "sns.countplot(x=\"reordered\", data=trainall, color=color[3])\n",
    "plt.ylabel('Number of orders', fontsize=12)\n",
    "plt.xlabel('Orders or Reorders', fontsize=12)\n",
    "plt.xticks(rotation='vertical')\n",
    "plt.title(\"Distribuition of orders vs reorders orders_train table\", fontsize=15)\n",
    "plt.show()"
   ]
  },
  {
   "cell_type": "code",
   "execution_count": 36,
   "metadata": {},
   "outputs": [
    {
     "data": {
      "image/png": "[encoded data removed]",
      "text/plain": [
       "<matplotlib.figure.Figure at 0x252bdcd3e80>"
      ]
     },
     "metadata": {},
     "output_type": "display_data"
    }
   ],
   "source": [
    "plt.figure(figsize=(12,4))\n",
    "sns.countplot(x=\"product_name\",data=tmp_4, color=color[3])\n",
    "plt.ylabel('Number of orders', fontsize=12)\n",
    "plt.xlabel('Products', fontsize=12)\n",
    "plt.xticks(rotation='vertical')\n",
    "plt.title(\"Distribuition of top-10 products orders_prior table\", fontsize=15)\n",
    "plt.show()"
   ]
  },
  {
   "cell_type": "code",
   "execution_count": 37,
   "metadata": {},
   "outputs": [
    {
     "data": {
      "image/png": "[encoded data removed]",
      "text/plain": [
       "<matplotlib.figure.Figure at 0x252bdb1ccf8>"
      ]
     },
     "metadata": {},
     "output_type": "display_data"
    }
   ],
   "source": [
    "plt.figure(figsize=(12,4))\n",
    "sns.countplot(x=\"department\", data=tmp_5,color=color[3])\n",
    "plt.ylabel('Number of orders', fontsize=12)\n",
    "plt.xlabel('Departments', fontsize=12)\n",
    "plt.xticks(rotation='vertical')\n",
    "plt.title(\"Distribuition of top-10 departments orders_prior table\", fontsize=15)\n",
    "plt.show()"
   ]
  },
  {
   "cell_type": "code",
   "execution_count": 38,
   "metadata": {},
   "outputs": [
    {
     "data": {
      "image/png": "[encoded data removed]",
      "text/plain": [
       "<matplotlib.figure.Figure at 0x252bc526828>"
      ]
     },
     "metadata": {},
     "output_type": "display_data"
    }
   ],
   "source": [
    "sns.countplot(x=\"aisle\", data=tmp_6,color=color[3])\n",
    "plt.ylabel('Number of orders', fontsize=12)\n",
    "plt.xlabel('Aisles', fontsize=12)\n",
    "plt.xticks(rotation='vertical')\n",
    "plt.title(\"Distribuition of top-10 aisles orders_prior table\", fontsize=15)\n",
    "plt.show()"
   ]
  },
  {
   "cell_type": "markdown",
   "metadata": {},
   "source": [
    "## Distribution of orders on different days of the week per hour "
   ]
  },
  {
   "cell_type": "code",
   "execution_count": 39,
   "metadata": {},
   "outputs": [
    {
     "data": {
      "text/plain": [
       "<matplotlib.text.Text at 0x252be533710>"
      ]
     },
     "execution_count": 39,
     "metadata": {},
     "output_type": "execute_result"
    },
    {
     "data": {
      "image/png": "[encoded data removed]",
      "text/plain": [
       "<matplotlib.figure.Figure at 0x252bea3f5f8>"
      ]
     },
     "metadata": {},
     "output_type": "display_data"
    }
   ],
   "source": [
    "tmp_7 = pd.DataFrame(orders.groupby(['order_dow','order_hour_of_day'])\n",
    "                          .agg({'order_id':pd.Series.nunique})\n",
    "                          .rename(columns={'order_id':'count_orders'})).reset_index()\n",
    "plt.close('all')\n",
    "sns.factorplot(x=\"order_hour_of_day\", y=\"count_orders\",\n",
    "               col=\"order_dow\", data=tmp_7, color=color[3],col_wrap=2,size=5);\n",
    "\n",
    "plt.ylabel('Number of orders', fontsize=12)\n",
    "plt.xlabel('Hour of day', fontsize=12)\n",
    "#del tmp_1\n",
    "\n",
    "\n"
   ]
  },
  {
   "cell_type": "markdown",
   "metadata": {},
   "source": [
    "Most of the purchases are between 9 amp and 17 pm, during office hours, however of the weekend day of week 0 and 1 is a bit different picture, so will have a closer look into it."
   ]
  },
  {
   "cell_type": "markdown",
   "metadata": {},
   "source": [
    "## Closer investigation of products re-ordered on Saturday and Sunday (days of week 0 and 1)"
   ]
  },
  {
   "cell_type": "code",
   "execution_count": 40,
   "metadata": {},
   "outputs": [
    {
     "data": {
      "text/plain": [
       "<matplotlib.text.Text at 0x252c7a5a400>"
      ]
     },
     "execution_count": 40,
     "metadata": {},
     "output_type": "execute_result"
    },
    {
     "data": {
      "image/png": "[encoded data removed]",
      "text/plain": [
       "<matplotlib.figure.Figure at 0x252bfde0e80>"
      ]
     },
     "metadata": {},
     "output_type": "display_data"
    }
   ],
   "source": [
    "orders_weekend = pd.read_sql_query(\"SELECT order_id, order_dow,days_since_prior_order,order_hour_of_day\\\n",
    "                            FROM orders WHERE order_dow=0 OR order_dow=1 ;\", conn)\n",
    "tmp_wend = pd.DataFrame(orders_weekend.groupby(['order_dow','order_hour_of_day'])\n",
    "                          .agg({'order_id':pd.Series.nunique})\n",
    "                          .rename(columns={'order_id':'count_orders'})).reset_index()\n",
    "plt.close('all')\n",
    "sns.factorplot(x=\"order_hour_of_day\", y=\"count_orders\",\n",
    "               col=\"order_dow\", data=tmp_wend, color=color[3],col_wrap=2,size=5);\n",
    "\n",
    "plt.ylabel('Number of orders', fontsize=12)\n",
    "plt.xlabel('Hour of day', fontsize=12)"
   ]
  },
  {
   "cell_type": "markdown",
   "metadata": {},
   "source": [
    "Number of orders on Saturday steadily increasing since 9 am and drops sharply after 4pm. On Sunday is a bit different picture, number or orders peaks at 10 am and sligtly decreases every hour till 5pm.\n",
    "Lets have a look which products are most popular purchases on the weekend (according to orders_prior table)."
   ]
  },
  {
   "cell_type": "code",
   "execution_count": 41,
   "metadata": {},
   "outputs": [
    {
     "data": {
      "text/plain": [
       "<seaborn.axisgrid.FacetGrid at 0x252c4931f28>"
      ]
     },
     "execution_count": 41,
     "metadata": {},
     "output_type": "execute_result"
    },
    {
     "data": {
      "image/png": "[encoded data removed]",
      "text/plain": [
       "<matplotlib.figure.Figure at 0x252c49315f8>"
      ]
     },
     "metadata": {},
     "output_type": "display_data"
    }
   ],
   "source": [
    "#select only order_dow=0 and order_dow-=1\n",
    "mergeall_weekend =  pd.read_sql_query(\"SELECT order_id, order_dow,days_since_prior_order,\\\n",
    "                                    order_hour_of_day,\\\n",
    "                                    product_id, product_name,department, aisle,reordered\\\n",
    "                                    FROM prioralldata\\\n",
    "                                    WHERE order_dow=0 OR order_dow=1;\", conn)\n",
    "\n",
    "\n",
    "tmp_1_groupby= mergeall_weekend.groupby(['order_dow','order_hour_of_day','product_name',\n",
    "                                         'reordered']).agg({'order_id':\n",
    "                                                            pd.Series.nunique}).rename(columns={'order_id':\n",
    "                                                                                                'count_reorders'})\n",
    "tmp_2_groupby = tmp_1_groupby['count_reorders'].groupby(level=0, group_keys=False)\n",
    "\n",
    "tmp_8 = pd.DataFrame(tmp_1_groupby).reset_index()\n",
    "tmp_9 = pd.DataFrame(tmp_2_groupby.nlargest(50)).reset_index()\n",
    "\n",
    "top10_dayandtime = tmp_9[tmp_9['reordered']==1]\n",
    "\n",
    "\n",
    "#Limit data to only those products which are in top 10 category by any time and day combination\n",
    "tmp_8 = tmp_8[tmp_8['product_name'].isin(top10_dayandtime['product_name'])]\n",
    "\n",
    "\n",
    "#temp_df_01 = temp_df_01[temp_df_01['day_of_week'].isin(['Monday','Tuesday'])] \n",
    "\n",
    "#Most orders are between 6 and 20\n",
    "#temp_df_01 = temp_df_01[(temp_df_01['order_hour_of_day'] >= 6) & (temp_df_01['order_hour_of_day'] <= 20) ]\n",
    "\n",
    "plt.close('all')\n",
    "g = sns.factorplot(x='product_name', y='count_reorders',\n",
    "                   #col=\"day_of_week\", data=temp_df_01[temp_df_01['reordered']==1], kind=\"swarm\",col_wrap=3,size=5);\n",
    "                   col=\"order_dow\", data=tmp_8, kind=\"swarm\",col_wrap=2,size=6);\n",
    "g.set_xticklabels(rotation=90)"
   ]
  },
  {
   "cell_type": "markdown",
   "metadata": {},
   "source": [
    "So, most wanted products on the weekend are fruits and vegetables, and almost all organic produce."
   ]
  },
  {
   "cell_type": "markdown",
   "metadata": {},
   "source": [
    "## FEATURE ENGINEERING Creation of new features"
   ]
  },
  {
   "cell_type": "markdown",
   "metadata": {},
   "source": [
    "Lets have a look at proportion or reorders in relation to the total number of products"
   ]
  },
  {
   "cell_type": "code",
   "execution_count": 42,
   "metadata": {
    "scrolled": true
   },
   "outputs": [
    {
     "name": "stdout",
     "output_type": "stream",
     "text": [
      "user_id=9694 orders \n",
      "     index  order_id  user_id eval_set  order_number  order_dow  \\\n",
      "0     104   2618231       13    prior             1          6   \n",
      "1     105   2560699       13    prior             2          0   \n",
      "2     106   2288946       13    prior             3          6   \n",
      "3     107     19256       13    prior             4          1   \n",
      "4     108   1378982       13    prior             5          0   \n",
      "5     109   2363981       13    prior             6          0   \n",
      "6     110   1906169       13    prior             7          0   \n",
      "7     111   1757094       13    prior             8          6   \n",
      "8     112    519471       13    prior             9          6   \n",
      "9     113   2298068       13    prior            10          6   \n",
      "10    114   1472646       13    prior            11          0   \n",
      "11    115   1789302       13    prior            12          6   \n",
      "12    116   1827621       13    train            13          0   \n",
      "\n",
      "    order_hour_of_day  days_since_prior_order  \n",
      "0                  12                     NaN  \n",
      "1                  11                     8.0  \n",
      "2                  21                     6.0  \n",
      "3                  12                     9.0  \n",
      "4                  13                     6.0  \n",
      "5                  18                     7.0  \n",
      "6                   8                     7.0  \n",
      "7                  18                    13.0  \n",
      "8                  17                     7.0  \n",
      "9                  22                     7.0  \n",
      "10                 14                     8.0  \n",
      "11                 13                     6.0  \n",
      "12                 21                     8.0   \n",
      "\n",
      "\n"
     ]
    }
   ],
   "source": [
    "user_table = pd.read_sql_query(\"SELECT * FROM orders WHERE user_id=13 ;\", conn)\n",
    "print(\"user_id=9694 orders \\n\", user_table,\"\\n\\n\")"
   ]
  },
  {
   "cell_type": "code",
   "execution_count": 43,
   "metadata": {},
   "outputs": [
    {
     "name": "stdout",
     "output_type": "stream",
     "text": [
      "user_id=9694 orders \n",
      "    index  order_id  user_id eval_set  order_number  order_dow  \\\n",
      "0    107     19256       13    prior             4          1   \n",
      "1    107     19256       13    prior             4          1   \n",
      "2    107     19256       13    prior             4          1   \n",
      "3    107     19256       13    prior             4          1   \n",
      "4    107     19256       13    prior             4          1   \n",
      "\n",
      "   order_hour_of_day  days_since_prior_order  product_id  add_to_cart_order  \\\n",
      "0                 12                     9.0       27086                  1   \n",
      "1                 12                     9.0       27435                  2   \n",
      "2                 12                     9.0       31372                  4   \n",
      "3                 12                     9.0       33735                  5   \n",
      "4                 12                     9.0       41480                  3   \n",
      "\n",
      "   reordered  product_id:1                   product_name       department  \\\n",
      "0          1         27086                    Half & Half       dairy eggs   \n",
      "1          1         27435  Whole Wheat Pita Bread Loaves           bakery   \n",
      "2          0         31372               Dark Brown Sugar           pantry   \n",
      "3          1         33735           Chick Peas Garbanzos     canned goods   \n",
      "4          0         41480                        Lentils  dry goods pasta   \n",
      "\n",
      "                     aisle  \n",
      "0                    cream  \n",
      "1     tortillas flat bread  \n",
      "2       baking ingredients  \n",
      "3       canned meals beans  \n",
      "4  grains rice dried goods   \n",
      "\n",
      "\n"
     ]
    }
   ],
   "source": [
    "user_table = pd.read_sql_query(\"SELECT * FROM prioralldata WHERE user_id=13 ;\", conn)\n",
    "print(\"user_id=9694 orders \\n\", user_table,\"\\n\\n\")"
   ]
  },
  {
   "cell_type": "code",
   "execution_count": 73,
   "metadata": {},
   "outputs": [
    {
     "name": "stdout",
     "output_type": "stream",
     "text": [
      "proportion of reorders in % is  \n",
      "    COUNT(product_id)\n",
      "0          60.006309 \n",
      "\n",
      "\n"
     ]
    }
   ],
   "source": [
    "number_of_reorders = pd.read_sql_query(\"SELECT COUNT(product_id) FROM prioralldata WHERE reordered=1 ;\", conn)\n",
    "number_of_noorders = pd.read_sql_query(\"SELECT COUNT(product_id) FROM prioralldata WHERE reordered=0 ;\", conn)\n",
    "proportion_reorders=100*(number_of_reorders/(number_of_reorders+number_of_noorders))\n",
    "print(\"proportion of reorders in % is  \\n\", proportion_reorders,\"\\n\\n\")"
   ]
  },
  {
   "cell_type": "markdown",
   "metadata": {},
   "source": [
    "So, about 60% of all products have been reordered in every order"
   ]
  },
  {
   "cell_type": "markdown",
   "metadata": {},
   "source": [
    "## Perform feature selection with SelectKBest and LASSO"
   ]
  },
  {
   "cell_type": "code",
   "execution_count": 44,
   "metadata": {},
   "outputs": [
    {
     "data": {
      "text/html": [
       "<div>\n",
       "<style>\n",
       "    .dataframe thead tr:only-child th {\n",
       "        text-align: right;\n",
       "    }\n",
       "\n",
       "    .dataframe thead th {\n",
       "        text-align: left;\n",
       "    }\n",
       "\n",
       "    .dataframe tbody tr th {\n",
       "        vertical-align: top;\n",
       "    }\n",
       "</style>\n",
       "<table border=\"1\" class=\"dataframe\">\n",
       "  <thead>\n",
       "    <tr style=\"text-align: right;\">\n",
       "      <th></th>\n",
       "      <th>order_id</th>\n",
       "      <th>order_dow</th>\n",
       "      <th>days_since_prior_order</th>\n",
       "      <th>order_hour_of_day</th>\n",
       "      <th>order_number</th>\n",
       "      <th>add_to_cart_order</th>\n",
       "      <th>product_id</th>\n",
       "      <th>product_name</th>\n",
       "      <th>department</th>\n",
       "      <th>aisle</th>\n",
       "      <th>reordered</th>\n",
       "    </tr>\n",
       "  </thead>\n",
       "  <tbody>\n",
       "    <tr>\n",
       "      <th>0</th>\n",
       "      <td>19989</td>\n",
       "      <td>2</td>\n",
       "      <td>8.0</td>\n",
       "      <td>7</td>\n",
       "      <td>11</td>\n",
       "      <td>1</td>\n",
       "      <td>4122</td>\n",
       "      <td>Chocolate Sandwich Cookies</td>\n",
       "      <td>snacks</td>\n",
       "      <td>cookies cakes</td>\n",
       "      <td>0</td>\n",
       "    </tr>\n",
       "    <tr>\n",
       "      <th>1</th>\n",
       "      <td>49629</td>\n",
       "      <td>1</td>\n",
       "      <td>30.0</td>\n",
       "      <td>14</td>\n",
       "      <td>18</td>\n",
       "      <td>1</td>\n",
       "      <td>11119</td>\n",
       "      <td>Chocolate Sandwich Cookies</td>\n",
       "      <td>snacks</td>\n",
       "      <td>cookies cakes</td>\n",
       "      <td>0</td>\n",
       "    </tr>\n",
       "    <tr>\n",
       "      <th>2</th>\n",
       "      <td>52768</td>\n",
       "      <td>1</td>\n",
       "      <td>30.0</td>\n",
       "      <td>10</td>\n",
       "      <td>3</td>\n",
       "      <td>1</td>\n",
       "      <td>21054</td>\n",
       "      <td>Chocolate Sandwich Cookies</td>\n",
       "      <td>snacks</td>\n",
       "      <td>cookies cakes</td>\n",
       "      <td>1</td>\n",
       "    </tr>\n",
       "    <tr>\n",
       "      <th>3</th>\n",
       "      <td>38944</td>\n",
       "      <td>6</td>\n",
       "      <td>23.0</td>\n",
       "      <td>21</td>\n",
       "      <td>4</td>\n",
       "      <td>6</td>\n",
       "      <td>22561</td>\n",
       "      <td>Chocolate Sandwich Cookies</td>\n",
       "      <td>snacks</td>\n",
       "      <td>cookies cakes</td>\n",
       "      <td>0</td>\n",
       "    </tr>\n",
       "    <tr>\n",
       "      <th>4</th>\n",
       "      <td>48889</td>\n",
       "      <td>1</td>\n",
       "      <td>3.0</td>\n",
       "      <td>10</td>\n",
       "      <td>39</td>\n",
       "      <td>2</td>\n",
       "      <td>6268</td>\n",
       "      <td>Sparkling Orange Juice &amp; Prickly Pear Beverage</td>\n",
       "      <td>beverages</td>\n",
       "      <td>water seltzer sparkling water</td>\n",
       "      <td>1</td>\n",
       "    </tr>\n",
       "  </tbody>\n",
       "</table>\n",
       "</div>"
      ],
      "text/plain": [
       "   order_id  order_dow  days_since_prior_order  order_hour_of_day  \\\n",
       "0     19989          2                     8.0                  7   \n",
       "1     49629          1                    30.0                 14   \n",
       "2     52768          1                    30.0                 10   \n",
       "3     38944          6                    23.0                 21   \n",
       "4     48889          1                     3.0                 10   \n",
       "\n",
       "   order_number  add_to_cart_order  product_id  \\\n",
       "0            11                  1        4122   \n",
       "1            18                  1       11119   \n",
       "2             3                  1       21054   \n",
       "3             4                  6       22561   \n",
       "4            39                  2        6268   \n",
       "\n",
       "                                     product_name department  \\\n",
       "0                      Chocolate Sandwich Cookies     snacks   \n",
       "1                      Chocolate Sandwich Cookies     snacks   \n",
       "2                      Chocolate Sandwich Cookies     snacks   \n",
       "3                      Chocolate Sandwich Cookies     snacks   \n",
       "4  Sparkling Orange Juice & Prickly Pear Beverage  beverages   \n",
       "\n",
       "                           aisle  reordered  \n",
       "0                  cookies cakes          0  \n",
       "1                  cookies cakes          0  \n",
       "2                  cookies cakes          1  \n",
       "3                  cookies cakes          0  \n",
       "4  water seltzer sparkling water          1  "
      ]
     },
     "execution_count": 44,
     "metadata": {},
     "output_type": "execute_result"
    }
   ],
   "source": [
    "priorall.head()"
   ]
  },
  {
   "cell_type": "code",
   "execution_count": 45,
   "metadata": {},
   "outputs": [
    {
     "data": {
      "text/html": [
       "<div>\n",
       "<style>\n",
       "    .dataframe thead tr:only-child th {\n",
       "        text-align: right;\n",
       "    }\n",
       "\n",
       "    .dataframe thead th {\n",
       "        text-align: left;\n",
       "    }\n",
       "\n",
       "    .dataframe tbody tr th {\n",
       "        vertical-align: top;\n",
       "    }\n",
       "</style>\n",
       "<table border=\"1\" class=\"dataframe\">\n",
       "  <thead>\n",
       "    <tr style=\"text-align: right;\">\n",
       "      <th></th>\n",
       "      <th>order_id</th>\n",
       "      <th>order_dow</th>\n",
       "      <th>days_since_prior_order</th>\n",
       "      <th>order_hour_of_day</th>\n",
       "      <th>order_number</th>\n",
       "      <th>add_to_cart_order</th>\n",
       "      <th>product_id</th>\n",
       "      <th>product_name</th>\n",
       "      <th>department</th>\n",
       "      <th>aisle</th>\n",
       "      <th>reordered</th>\n",
       "    </tr>\n",
       "  </thead>\n",
       "  <tbody>\n",
       "    <tr>\n",
       "      <th>0</th>\n",
       "      <td>19989</td>\n",
       "      <td>2</td>\n",
       "      <td>8.0</td>\n",
       "      <td>7</td>\n",
       "      <td>11</td>\n",
       "      <td>1</td>\n",
       "      <td>4122</td>\n",
       "      <td>Chocolate Sandwich Cookies</td>\n",
       "      <td>snacks</td>\n",
       "      <td>cookies cakes</td>\n",
       "      <td>0</td>\n",
       "    </tr>\n",
       "    <tr>\n",
       "      <th>1</th>\n",
       "      <td>49629</td>\n",
       "      <td>1</td>\n",
       "      <td>30.0</td>\n",
       "      <td>14</td>\n",
       "      <td>18</td>\n",
       "      <td>1</td>\n",
       "      <td>11119</td>\n",
       "      <td>Chocolate Sandwich Cookies</td>\n",
       "      <td>snacks</td>\n",
       "      <td>cookies cakes</td>\n",
       "      <td>0</td>\n",
       "    </tr>\n",
       "    <tr>\n",
       "      <th>2</th>\n",
       "      <td>52768</td>\n",
       "      <td>1</td>\n",
       "      <td>30.0</td>\n",
       "      <td>10</td>\n",
       "      <td>3</td>\n",
       "      <td>1</td>\n",
       "      <td>21054</td>\n",
       "      <td>Chocolate Sandwich Cookies</td>\n",
       "      <td>snacks</td>\n",
       "      <td>cookies cakes</td>\n",
       "      <td>1</td>\n",
       "    </tr>\n",
       "    <tr>\n",
       "      <th>3</th>\n",
       "      <td>38944</td>\n",
       "      <td>6</td>\n",
       "      <td>23.0</td>\n",
       "      <td>21</td>\n",
       "      <td>4</td>\n",
       "      <td>6</td>\n",
       "      <td>22561</td>\n",
       "      <td>Chocolate Sandwich Cookies</td>\n",
       "      <td>snacks</td>\n",
       "      <td>cookies cakes</td>\n",
       "      <td>0</td>\n",
       "    </tr>\n",
       "    <tr>\n",
       "      <th>4</th>\n",
       "      <td>48889</td>\n",
       "      <td>1</td>\n",
       "      <td>3.0</td>\n",
       "      <td>10</td>\n",
       "      <td>39</td>\n",
       "      <td>2</td>\n",
       "      <td>6268</td>\n",
       "      <td>Sparkling Orange Juice &amp; Prickly Pear Beverage</td>\n",
       "      <td>beverages</td>\n",
       "      <td>water seltzer sparkling water</td>\n",
       "      <td>1</td>\n",
       "    </tr>\n",
       "  </tbody>\n",
       "</table>\n",
       "</div>"
      ],
      "text/plain": [
       "   order_id  order_dow  days_since_prior_order  order_hour_of_day  \\\n",
       "0     19989          2                     8.0                  7   \n",
       "1     49629          1                    30.0                 14   \n",
       "2     52768          1                    30.0                 10   \n",
       "3     38944          6                    23.0                 21   \n",
       "4     48889          1                     3.0                 10   \n",
       "\n",
       "   order_number  add_to_cart_order  product_id  \\\n",
       "0            11                  1        4122   \n",
       "1            18                  1       11119   \n",
       "2             3                  1       21054   \n",
       "3             4                  6       22561   \n",
       "4            39                  2        6268   \n",
       "\n",
       "                                     product_name department  \\\n",
       "0                      Chocolate Sandwich Cookies     snacks   \n",
       "1                      Chocolate Sandwich Cookies     snacks   \n",
       "2                      Chocolate Sandwich Cookies     snacks   \n",
       "3                      Chocolate Sandwich Cookies     snacks   \n",
       "4  Sparkling Orange Juice & Prickly Pear Beverage  beverages   \n",
       "\n",
       "                           aisle  reordered  \n",
       "0                  cookies cakes          0  \n",
       "1                  cookies cakes          0  \n",
       "2                  cookies cakes          1  \n",
       "3                  cookies cakes          0  \n",
       "4  water seltzer sparkling water          1  "
      ]
     },
     "execution_count": 45,
     "metadata": {},
     "output_type": "execute_result"
    }
   ],
   "source": [
    "#replace NaN and infinity by the mean value from enron_df only\n",
    "\n",
    "priorall=priorall.replace([np.inf, -np.inf], np.nan).fillna(orders.mean())\n",
    "priorall.head()\n",
    "\n"
   ]
  },
  {
   "cell_type": "code",
   "execution_count": 46,
   "metadata": {},
   "outputs": [
    {
     "data": {
      "text/html": [
       "<div>\n",
       "<style>\n",
       "    .dataframe thead tr:only-child th {\n",
       "        text-align: right;\n",
       "    }\n",
       "\n",
       "    .dataframe thead th {\n",
       "        text-align: left;\n",
       "    }\n",
       "\n",
       "    .dataframe tbody tr th {\n",
       "        vertical-align: top;\n",
       "    }\n",
       "</style>\n",
       "<table border=\"1\" class=\"dataframe\">\n",
       "  <thead>\n",
       "    <tr style=\"text-align: right;\">\n",
       "      <th></th>\n",
       "      <th>order_id</th>\n",
       "      <th>order_dow</th>\n",
       "      <th>days_since_prior_order</th>\n",
       "      <th>order_hour_of_day</th>\n",
       "      <th>order_number</th>\n",
       "      <th>add_to_cart_order</th>\n",
       "      <th>product_id</th>\n",
       "      <th>product_name</th>\n",
       "      <th>department</th>\n",
       "      <th>aisle</th>\n",
       "      <th>reordered</th>\n",
       "    </tr>\n",
       "  </thead>\n",
       "  <tbody>\n",
       "    <tr>\n",
       "      <th>0</th>\n",
       "      <td>19989</td>\n",
       "      <td>2</td>\n",
       "      <td>8.0</td>\n",
       "      <td>7</td>\n",
       "      <td>11</td>\n",
       "      <td>1</td>\n",
       "      <td>4122</td>\n",
       "      <td>Chocolate Sandwich Cookies</td>\n",
       "      <td>snacks</td>\n",
       "      <td>cookies cakes</td>\n",
       "      <td>0</td>\n",
       "    </tr>\n",
       "    <tr>\n",
       "      <th>1</th>\n",
       "      <td>49629</td>\n",
       "      <td>1</td>\n",
       "      <td>30.0</td>\n",
       "      <td>14</td>\n",
       "      <td>18</td>\n",
       "      <td>1</td>\n",
       "      <td>11119</td>\n",
       "      <td>Chocolate Sandwich Cookies</td>\n",
       "      <td>snacks</td>\n",
       "      <td>cookies cakes</td>\n",
       "      <td>0</td>\n",
       "    </tr>\n",
       "    <tr>\n",
       "      <th>2</th>\n",
       "      <td>52768</td>\n",
       "      <td>1</td>\n",
       "      <td>30.0</td>\n",
       "      <td>10</td>\n",
       "      <td>3</td>\n",
       "      <td>1</td>\n",
       "      <td>21054</td>\n",
       "      <td>Chocolate Sandwich Cookies</td>\n",
       "      <td>snacks</td>\n",
       "      <td>cookies cakes</td>\n",
       "      <td>1</td>\n",
       "    </tr>\n",
       "    <tr>\n",
       "      <th>3</th>\n",
       "      <td>38944</td>\n",
       "      <td>6</td>\n",
       "      <td>23.0</td>\n",
       "      <td>21</td>\n",
       "      <td>4</td>\n",
       "      <td>6</td>\n",
       "      <td>22561</td>\n",
       "      <td>Chocolate Sandwich Cookies</td>\n",
       "      <td>snacks</td>\n",
       "      <td>cookies cakes</td>\n",
       "      <td>0</td>\n",
       "    </tr>\n",
       "    <tr>\n",
       "      <th>4</th>\n",
       "      <td>48889</td>\n",
       "      <td>1</td>\n",
       "      <td>3.0</td>\n",
       "      <td>10</td>\n",
       "      <td>39</td>\n",
       "      <td>2</td>\n",
       "      <td>6268</td>\n",
       "      <td>Sparkling Orange Juice &amp; Prickly Pear Beverage</td>\n",
       "      <td>beverages</td>\n",
       "      <td>water seltzer sparkling water</td>\n",
       "      <td>1</td>\n",
       "    </tr>\n",
       "  </tbody>\n",
       "</table>\n",
       "</div>"
      ],
      "text/plain": [
       "   order_id  order_dow  days_since_prior_order  order_hour_of_day  \\\n",
       "0     19989          2                     8.0                  7   \n",
       "1     49629          1                    30.0                 14   \n",
       "2     52768          1                    30.0                 10   \n",
       "3     38944          6                    23.0                 21   \n",
       "4     48889          1                     3.0                 10   \n",
       "\n",
       "   order_number  add_to_cart_order  product_id  \\\n",
       "0            11                  1        4122   \n",
       "1            18                  1       11119   \n",
       "2             3                  1       21054   \n",
       "3             4                  6       22561   \n",
       "4            39                  2        6268   \n",
       "\n",
       "                                     product_name department  \\\n",
       "0                      Chocolate Sandwich Cookies     snacks   \n",
       "1                      Chocolate Sandwich Cookies     snacks   \n",
       "2                      Chocolate Sandwich Cookies     snacks   \n",
       "3                      Chocolate Sandwich Cookies     snacks   \n",
       "4  Sparkling Orange Juice & Prickly Pear Beverage  beverages   \n",
       "\n",
       "                           aisle  reordered  \n",
       "0                  cookies cakes          0  \n",
       "1                  cookies cakes          0  \n",
       "2                  cookies cakes          1  \n",
       "3                  cookies cakes          0  \n",
       "4  water seltzer sparkling water          1  "
      ]
     },
     "execution_count": 46,
     "metadata": {},
     "output_type": "execute_result"
    }
   ],
   "source": [
    "priorall = priorall.fillna(orders.mean())\n",
    "priorall.head()\n"
   ]
  },
  {
   "cell_type": "code",
   "execution_count": 47,
   "metadata": {},
   "outputs": [
    {
     "data": {
      "text/html": [
       "<div>\n",
       "<style>\n",
       "    .dataframe thead tr:only-child th {\n",
       "        text-align: right;\n",
       "    }\n",
       "\n",
       "    .dataframe thead th {\n",
       "        text-align: left;\n",
       "    }\n",
       "\n",
       "    .dataframe tbody tr th {\n",
       "        vertical-align: top;\n",
       "    }\n",
       "</style>\n",
       "<table border=\"1\" class=\"dataframe\">\n",
       "  <thead>\n",
       "    <tr style=\"text-align: right;\">\n",
       "      <th></th>\n",
       "      <th>order_id</th>\n",
       "      <th>order_dow</th>\n",
       "      <th>days_since_prior_order</th>\n",
       "      <th>order_hour_of_day</th>\n",
       "      <th>order_number</th>\n",
       "      <th>add_to_cart_order</th>\n",
       "      <th>product_id</th>\n",
       "    </tr>\n",
       "  </thead>\n",
       "  <tbody>\n",
       "    <tr>\n",
       "      <th>0</th>\n",
       "      <td>19989</td>\n",
       "      <td>2</td>\n",
       "      <td>8.0</td>\n",
       "      <td>7</td>\n",
       "      <td>11</td>\n",
       "      <td>1</td>\n",
       "      <td>4122</td>\n",
       "    </tr>\n",
       "    <tr>\n",
       "      <th>1</th>\n",
       "      <td>49629</td>\n",
       "      <td>1</td>\n",
       "      <td>30.0</td>\n",
       "      <td>14</td>\n",
       "      <td>18</td>\n",
       "      <td>1</td>\n",
       "      <td>11119</td>\n",
       "    </tr>\n",
       "    <tr>\n",
       "      <th>2</th>\n",
       "      <td>52768</td>\n",
       "      <td>1</td>\n",
       "      <td>30.0</td>\n",
       "      <td>10</td>\n",
       "      <td>3</td>\n",
       "      <td>1</td>\n",
       "      <td>21054</td>\n",
       "    </tr>\n",
       "    <tr>\n",
       "      <th>3</th>\n",
       "      <td>38944</td>\n",
       "      <td>6</td>\n",
       "      <td>23.0</td>\n",
       "      <td>21</td>\n",
       "      <td>4</td>\n",
       "      <td>6</td>\n",
       "      <td>22561</td>\n",
       "    </tr>\n",
       "    <tr>\n",
       "      <th>4</th>\n",
       "      <td>48889</td>\n",
       "      <td>1</td>\n",
       "      <td>3.0</td>\n",
       "      <td>10</td>\n",
       "      <td>39</td>\n",
       "      <td>2</td>\n",
       "      <td>6268</td>\n",
       "    </tr>\n",
       "  </tbody>\n",
       "</table>\n",
       "</div>"
      ],
      "text/plain": [
       "   order_id  order_dow  days_since_prior_order  order_hour_of_day  \\\n",
       "0     19989          2                     8.0                  7   \n",
       "1     49629          1                    30.0                 14   \n",
       "2     52768          1                    30.0                 10   \n",
       "3     38944          6                    23.0                 21   \n",
       "4     48889          1                     3.0                 10   \n",
       "\n",
       "   order_number  add_to_cart_order  product_id  \n",
       "0            11                  1        4122  \n",
       "1            18                  1       11119  \n",
       "2             3                  1       21054  \n",
       "3             4                  6       22561  \n",
       "4            39                  2        6268  "
      ]
     },
     "execution_count": 47,
     "metadata": {},
     "output_type": "execute_result"
    }
   ],
   "source": [
    "#drop categorical data, only numerical data can go into machine learning algorithms\n",
    "priorall=priorall.drop('department', axis=1)\n",
    "priorall=priorall.drop('product_name', axis=1)\n",
    "priorall=priorall.drop('aisle', axis=1)\n",
    "\n",
    "priorall_edit=priorall.drop('reordered', axis=1)\n",
    "\n",
    "\n",
    "priorall_edit.head()"
   ]
  },
  {
   "cell_type": "code",
   "execution_count": 51,
   "metadata": {},
   "outputs": [
    {
     "data": {
      "text/html": [
       "<div>\n",
       "<style>\n",
       "    .dataframe thead tr:only-child th {\n",
       "        text-align: right;\n",
       "    }\n",
       "\n",
       "    .dataframe thead th {\n",
       "        text-align: left;\n",
       "    }\n",
       "\n",
       "    .dataframe tbody tr th {\n",
       "        vertical-align: top;\n",
       "    }\n",
       "</style>\n",
       "<table border=\"1\" class=\"dataframe\">\n",
       "  <thead>\n",
       "    <tr style=\"text-align: right;\">\n",
       "      <th></th>\n",
       "      <th>product_id</th>\n",
       "    </tr>\n",
       "  </thead>\n",
       "  <tbody>\n",
       "    <tr>\n",
       "      <th>0</th>\n",
       "      <td>4122</td>\n",
       "    </tr>\n",
       "    <tr>\n",
       "      <th>1</th>\n",
       "      <td>11119</td>\n",
       "    </tr>\n",
       "    <tr>\n",
       "      <th>2</th>\n",
       "      <td>21054</td>\n",
       "    </tr>\n",
       "  </tbody>\n",
       "</table>\n",
       "</div>"
      ],
      "text/plain": [
       "   product_id\n",
       "0        4122\n",
       "1       11119\n",
       "2       21054"
      ]
     },
     "execution_count": 51,
     "metadata": {},
     "output_type": "execute_result"
    }
   ],
   "source": [
    "#create data frame only with product_id for concatenating with testdata which needs product_id numbers for predictions\n",
    "#weather they were in a next order\n",
    "test_productid=priorall[['product_id']].copy()\n",
    "test_productid.head(3)\n",
    "#test_productid.shape  \n",
    "# (72909, 1)"
   ]
  },
  {
   "cell_type": "code",
   "execution_count": 48,
   "metadata": {},
   "outputs": [
    {
     "data": {
      "text/html": [
       "<div>\n",
       "<style>\n",
       "    .dataframe thead tr:only-child th {\n",
       "        text-align: right;\n",
       "    }\n",
       "\n",
       "    .dataframe thead th {\n",
       "        text-align: left;\n",
       "    }\n",
       "\n",
       "    .dataframe tbody tr th {\n",
       "        vertical-align: top;\n",
       "    }\n",
       "</style>\n",
       "<table border=\"1\" class=\"dataframe\">\n",
       "  <thead>\n",
       "    <tr style=\"text-align: right;\">\n",
       "      <th></th>\n",
       "      <th>order_id</th>\n",
       "      <th>order_dow</th>\n",
       "      <th>days_since_prior_order</th>\n",
       "      <th>order_hour_of_day</th>\n",
       "      <th>order_number</th>\n",
       "    </tr>\n",
       "  </thead>\n",
       "  <tbody>\n",
       "    <tr>\n",
       "      <th>0</th>\n",
       "      <td>2774568</td>\n",
       "      <td>5</td>\n",
       "      <td>11.0</td>\n",
       "      <td>15</td>\n",
       "      <td>13</td>\n",
       "    </tr>\n",
       "    <tr>\n",
       "      <th>1</th>\n",
       "      <td>329954</td>\n",
       "      <td>3</td>\n",
       "      <td>30.0</td>\n",
       "      <td>12</td>\n",
       "      <td>6</td>\n",
       "    </tr>\n",
       "    <tr>\n",
       "      <th>2</th>\n",
       "      <td>1528013</td>\n",
       "      <td>3</td>\n",
       "      <td>22.0</td>\n",
       "      <td>16</td>\n",
       "      <td>4</td>\n",
       "    </tr>\n",
       "  </tbody>\n",
       "</table>\n",
       "</div>"
      ],
      "text/plain": [
       "   order_id  order_dow  days_since_prior_order  order_hour_of_day  \\\n",
       "0   2774568          5                    11.0                 15   \n",
       "1    329954          3                    30.0                 12   \n",
       "2   1528013          3                    22.0                 16   \n",
       "\n",
       "   order_number  \n",
       "0            13  \n",
       "1             6  \n",
       "2             4  "
      ]
     },
     "execution_count": 48,
     "metadata": {},
     "output_type": "execute_result"
    }
   ],
   "source": [
    "testdata.head(3)"
   ]
  },
  {
   "cell_type": "code",
   "execution_count": 52,
   "metadata": {},
   "outputs": [
    {
     "data": {
      "text/plain": [
       "(10931, 5)"
      ]
     },
     "execution_count": 52,
     "metadata": {},
     "output_type": "execute_result"
    }
   ],
   "source": [
    "testdata.shape"
   ]
  },
  {
   "cell_type": "code",
   "execution_count": null,
   "metadata": {},
   "outputs": [],
   "source": [
    "#concatenate 2 tables, so table will have 10931*5847 rows!!!!\n",
    "#number of unique product_idis     5847\n",
    "#seems too much! better create separate dataframes (csv files or in sql database) and run each individualy with testdata\n",
    "#+ 1 single value  #product_id as a new column and run throw selected as best at prediction  machine learning algorithm\n"
   ]
  },
  {
   "cell_type": "code",
   "execution_count": 79,
   "metadata": {},
   "outputs": [
    {
     "data": {
      "text/html": [
       "<div>\n",
       "<style>\n",
       "    .dataframe thead tr:only-child th {\n",
       "        text-align: right;\n",
       "    }\n",
       "\n",
       "    .dataframe thead th {\n",
       "        text-align: left;\n",
       "    }\n",
       "\n",
       "    .dataframe tbody tr th {\n",
       "        vertical-align: top;\n",
       "    }\n",
       "</style>\n",
       "<table border=\"1\" class=\"dataframe\">\n",
       "  <thead>\n",
       "    <tr style=\"text-align: right;\">\n",
       "      <th></th>\n",
       "      <th>order_id</th>\n",
       "      <th>order_dow</th>\n",
       "      <th>days_since_prior_order</th>\n",
       "      <th>order_hour_of_day</th>\n",
       "      <th>order_number</th>\n",
       "      <th>add_to_cart_order</th>\n",
       "      <th>product_id</th>\n",
       "      <th>reordered</th>\n",
       "    </tr>\n",
       "  </thead>\n",
       "  <tbody>\n",
       "    <tr>\n",
       "      <th>0</th>\n",
       "      <td>19989</td>\n",
       "      <td>2</td>\n",
       "      <td>8.0</td>\n",
       "      <td>7</td>\n",
       "      <td>11</td>\n",
       "      <td>1</td>\n",
       "      <td>4122</td>\n",
       "      <td>0</td>\n",
       "    </tr>\n",
       "    <tr>\n",
       "      <th>1</th>\n",
       "      <td>49629</td>\n",
       "      <td>1</td>\n",
       "      <td>30.0</td>\n",
       "      <td>14</td>\n",
       "      <td>18</td>\n",
       "      <td>1</td>\n",
       "      <td>11119</td>\n",
       "      <td>0</td>\n",
       "    </tr>\n",
       "    <tr>\n",
       "      <th>2</th>\n",
       "      <td>52768</td>\n",
       "      <td>1</td>\n",
       "      <td>30.0</td>\n",
       "      <td>10</td>\n",
       "      <td>3</td>\n",
       "      <td>1</td>\n",
       "      <td>21054</td>\n",
       "      <td>1</td>\n",
       "    </tr>\n",
       "    <tr>\n",
       "      <th>3</th>\n",
       "      <td>38944</td>\n",
       "      <td>6</td>\n",
       "      <td>23.0</td>\n",
       "      <td>21</td>\n",
       "      <td>4</td>\n",
       "      <td>6</td>\n",
       "      <td>22561</td>\n",
       "      <td>0</td>\n",
       "    </tr>\n",
       "    <tr>\n",
       "      <th>4</th>\n",
       "      <td>48889</td>\n",
       "      <td>1</td>\n",
       "      <td>3.0</td>\n",
       "      <td>10</td>\n",
       "      <td>39</td>\n",
       "      <td>2</td>\n",
       "      <td>6268</td>\n",
       "      <td>1</td>\n",
       "    </tr>\n",
       "  </tbody>\n",
       "</table>\n",
       "</div>"
      ],
      "text/plain": [
       "   order_id  order_dow  days_since_prior_order  order_hour_of_day  \\\n",
       "0     19989          2                     8.0                  7   \n",
       "1     49629          1                    30.0                 14   \n",
       "2     52768          1                    30.0                 10   \n",
       "3     38944          6                    23.0                 21   \n",
       "4     48889          1                     3.0                 10   \n",
       "\n",
       "   order_number  add_to_cart_order  product_id  reordered  \n",
       "0            11                  1        4122          0  \n",
       "1            18                  1       11119          0  \n",
       "2             3                  1       21054          1  \n",
       "3             4                  6       22561          0  \n",
       "4            39                  2        6268          1  "
      ]
     },
     "execution_count": 79,
     "metadata": {},
     "output_type": "execute_result"
    }
   ],
   "source": [
    "priorall.head()"
   ]
  },
  {
   "cell_type": "code",
   "execution_count": 80,
   "metadata": {},
   "outputs": [
    {
     "name": "stdout",
     "output_type": "stream",
     "text": [
      "Ranking of features is \n",
      "1 . Score   order_number  is  7436.76339123\n",
      "2 . Score   add_to_cart_order  is  1230.39796882\n",
      "3 . Score   days_since_prior_order  is  1204.20175736\n",
      "4 . Score   order_hour_of_day  is  48.7814693703\n",
      "5 . Score   product_id  is  9.06752313378\n",
      "6 . Score   order_id  is  5.11306880726\n",
      "7 . Score   order_dow  is  0.389505663797\n",
      "['order_id' 'order_dow' 'days_since_prior_order' 'order_hour_of_day'\n",
      " 'order_number' 'add_to_cart_order' 'product_id' 'reordered']\n"
     ]
    }
   ],
   "source": [
    "from sklearn.feature_selection import SelectKBest\n",
    "from sklearn.feature_selection import f_classif\n",
    "\n",
    "\n",
    "skb = SelectKBest(f_classif,k='all').fit(priorall_edit,priorall['reordered'])\n",
    "scores = skb.scores_\n",
    "all_features = priorall.columns.values\n",
    "sort_index = np.argsort(scores)[::-1]\n",
    "rank = 1\n",
    "ranked_features = []\n",
    "print (\"Ranking of features is \")\n",
    "for x in sort_index:\n",
    "    print (rank,\". Score  \",all_features[x],\" is \",scores[x])\n",
    "    ranked_features.append(all_features[x])\n",
    "    rank += 1\n",
    "print (all_features)\n"
   ]
  },
  {
   "cell_type": "markdown",
   "metadata": {
    "collapsed": true
   },
   "source": [
    "## LASSO"
   ]
  },
  {
   "cell_type": "code",
   "execution_count": 81,
   "metadata": {},
   "outputs": [
    {
     "name": "stdout",
     "output_type": "stream",
     "text": [
      "Ranking of LASSO features is \n",
      "1 . Score   order_number  is  0.00523130112728\n",
      "2 . Score   add_to_cart_order  is  -0.0\n",
      "3 . Score   days_since_prior_order  is  -0.0\n",
      "4 . Score   order_hour_of_day  is  -0.0\n",
      "5 . Score   product_id  is  -3.53015330177e-07\n",
      "6 . Score   order_id  is  2.56075609104e-07\n",
      "7 . Score   order_dow  is  -0.0\n",
      "['order_id' 'order_dow' 'days_since_prior_order' 'order_hour_of_day'\n",
      " 'order_number' 'add_to_cart_order' 'product_id' 'reordered']\n",
      "[  2.56075609e-07  -0.00000000e+00  -0.00000000e+00  -0.00000000e+00\n",
      "   5.23130113e-03  -0.00000000e+00  -3.53015330e-07]\n"
     ]
    }
   ],
   "source": [
    "from sklearn.linear_model import Lasso\n",
    "\n",
    "lasso = Lasso()\n",
    "\n",
    "\n",
    "lasso_fit=lasso.fit(priorall_edit,priorall['reordered'])\n",
    "\n",
    "lasso_coef = lasso_fit.coef_\n",
    "\n",
    "all_features2 = priorall.columns.values\n",
    "sort_index2 = np.argsort(lasso_coef)[::-1]\n",
    "rank1 = 1\n",
    "ranked_features_lasso = []\n",
    "print (\"Ranking of LASSO features is \")\n",
    "for x in sort_index:\n",
    "    print (rank1,\". Score  \",all_features2[x],\" is \",lasso_coef[x])\n",
    "    ranked_features_lasso.append(all_features2[x])\n",
    "    rank1 += 1\n",
    "print (all_features2)\n",
    "\n",
    "print (lasso_coef)"
   ]
  },
  {
   "cell_type": "markdown",
   "metadata": {},
   "source": [
    "Both algorithms for feature selection give pretty much the same result, therefore for my analysis I will choose\n",
    "first 6 features to predict which products will be reordered."
   ]
  },
  {
   "cell_type": "markdown",
   "metadata": {},
   "source": [
    "## Choosing machine learning algorithm"
   ]
  },
  {
   "cell_type": "code",
   "execution_count": 82,
   "metadata": {},
   "outputs": [],
   "source": [
    "#table for better presentation of results\n",
    "#Ref : http://stackoverflow.com/questions/30523735/python-dictionary-as-html-table-in-ipython-notebook\n",
    "class DictTable(dict):\n",
    "    # Overridden dict class which takes a dict in the form {'a': 2, 'b': 3},\n",
    "    # and renders an HTML Table in IPython Notebook.\n",
    "    def _repr_html_(self):\n",
    "        html = [\"<table width=100%>\"]\n",
    "        html.append(\"<tr>\")\n",
    "        html.append(\"<th>Classifier</th>\")\n",
    "        html.append(\"<th>Accuracy</th>\")\n",
    "        html.append(\"<th>Precision</th>\")\n",
    "        html.append(\"<th>Recall</th>\")\n",
    "        html.append(\"</tr>\")\n",
    "        for key, value in self.items():\n",
    "            html.append(\"<tr>\")\n",
    "            html.append(\"<td>{0}</td>\".format(key))\n",
    "            for key_inner,value_inner in value.items():\n",
    "                html.append(\"<td>{0}</td>\".format(value_inner))\n",
    "                \n",
    "           \n",
    "            html.append(\"</tr>\")\n",
    "        html.append(\"</table>\")\n",
    "        return ''.join(html)"
   ]
  },
  {
   "cell_type": "code",
   "execution_count": 83,
   "metadata": {},
   "outputs": [],
   "source": [
    "labels = priorall['reordered']\n",
    "from feature_format import featureFormat, targetFeatureSplit\n",
    "#from tester import dump_classifier_and_data\n",
    "import matplotlib.pyplot as plt\n",
    "from IPython.display import display # Allows the use of display() for DataFrames\n",
    "import numpy as np\n",
    "from sklearn import cross_validation\n",
    "from sklearn.model_selection import StratifiedShuffleSplit,StratifiedKFold\n",
    "from sklearn.metrics import accuracy_score, precision_score, recall_score, confusion_matrix\n",
    "from sklearn.cluster import KMeans\n",
    "from sklearn.metrics import make_scorer\n",
    "from numpy import mean\n",
    "from sklearn.preprocessing import StandardScaler, MinMaxScaler\n",
    "from sklearn.feature_selection import SelectKBest\n",
    "from sklearn.feature_selection import f_classif\n",
    "from sklearn.naive_bayes import GaussianNB\n",
    "from sklearn.metrics import f1_score ,fbeta_score\n",
    "from sklearn.linear_model import LogisticRegression\n",
    "from sklearn.tree import DecisionTreeClassifier\n",
    "from sklearn.ensemble import RandomForestClassifier\n",
    "from sklearn.svm import SVC, LinearSVC\n",
    "from sklearn.metrics import accuracy_score,precision_score,recall_score,precision_recall_fscore_support,roc_auc_score\n",
    "from sklearn.neighbors import KNeighborsClassifier\n",
    "\n",
    "\n",
    "classifier_dict = {'Logistic Regression':LogisticRegression(random_state = 0,max_iter=500,class_weight='balanced'),\n",
    "                    'SVM_rbf':SVC(class_weight='balanced',kernel='rbf'),\n",
    "                   'SVM_sigmoid':SVC(class_weight='balanced',kernel='sigmoid'),\n",
    "                  'Gaussian Naive Bayes':GaussianNB(),\n",
    "                  'SVM_linear':LinearSVC(random_state=0,class_weight='balanced'),\n",
    "                  'Decision Tree':DecisionTreeClassifier(class_weight='balanced',min_samples_split=5),\n",
    "                  'Random Forest': RandomForestClassifier(n_estimators=100,class_weight='balanced'),\n",
    "                  'KNN':KNeighborsClassifier()\n",
    "                  }"
   ]
  },
  {
   "cell_type": "code",
   "execution_count": 84,
   "metadata": {},
   "outputs": [],
   "source": [
    "from sklearn.pipeline import Pipeline\n",
    "def get_score_table(features_set,dataset=priorall_edit):\n",
    "    features = dataset[features_set]\n",
    "    classifier_comp = {}\n",
    "    for x in classifier_dict.keys():\n",
    "        pipeline =  Pipeline(steps=[('scaler', StandardScaler()),\n",
    "                                         (\"classifier\",classifier_dict[x])])\n",
    "        #produces shuffled lots and splits data in 3 parts\n",
    "        #This cross-validation object is a merge of StratifiedKFold and ShuffleSplit\n",
    "        #This module creates a single training/testing set having equally balanced(stratified) classes. \n",
    "        cv = StratifiedShuffleSplit(n_splits=3, test_size=0.3, random_state=0)\n",
    "        acc = []\n",
    "        pre = []\n",
    "        rec = []\n",
    "        for train_index, test_index in cv.split(features, labels):\n",
    "            X_train, X_test = features.iloc[train_index], features.iloc[test_index]\n",
    "            y_train, y_test = labels[train_index], labels[test_index]\n",
    "        #    This module is useful as a direct k-fold cross-validation operator: as in it will set up n_folds\n",
    "        #training/testing sets such that classes are equally balanced in both.\n",
    "        #cv=StratifiedKFold(n_splits=n_splits).split(enron_data_df[features_5], data_df['poi'])\n",
    "            pipeline.fit(X_train,y_train)\n",
    "            predictions = pipeline.predict(X_test)\n",
    "            acc.append(accuracy_score(predictions,y_test))\n",
    "            pre.append(precision_score(predictions,y_test))\n",
    "            rec.append(recall_score(predictions,y_test))\n",
    "        #print pipeline.named_steps\n",
    "        classifier_comp[x]={}\n",
    "        classifier_comp[x]['accuracy']=np.mean(acc)\n",
    "        classifier_comp[x]['precision']=np.mean(pre)\n",
    "        classifier_comp[x]['recall']=np.mean(rec)\n",
    "    return classifier_comp"
   ]
  },
  {
   "cell_type": "code",
   "execution_count": 85,
   "metadata": {},
   "outputs": [
    {
     "name": "stdout",
     "output_type": "stream",
     "text": [
      "Using Top 6 features\n"
     ]
    },
    {
     "data": {
      "text/html": [
       "<table width=100%><tr><th>Classifier</th><th>Accuracy</th><th>Precision</th><th>Recall</th></tr><tr><td>Logistic Regression</td><td>0.6439598287081486</td><td>0.5601015873015873</td><td>0.7849578967290638</td></tr><tr><td>SVM_rbf</td><td>0.6982428869687135</td><td>0.7238603174603174</td><td>0.7614877582575289</td></tr><tr><td>SVM_sigmoid</td><td>0.5778661668114418</td><td>0.5758730158730159</td><td>0.6733021460203243</td></tr><tr><td>Gaussian Naive Bayes</td><td>0.6448132400676633</td><td>0.7484952380952382</td><td>0.6873790057401367</td></tr><tr><td>SVM_linear</td><td>0.6370411009006537</td><td>0.5414349206349206</td><td>0.7872649635405348</td></tr><tr><td>Decision Tree</td><td>0.7155854249531387</td><td>0.7363047619047619</td><td>0.7778481343055672</td></tr><tr><td>Random Forest</td><td>0.7654185525533762</td><td>0.8372571428571428</td><td>0.7858539594296855</td></tr><tr><td>KNN</td><td>0.7433822520916197</td><td>0.8233142857142856</td><td>0.7663866110063716</td></tr></table>"
      ],
      "text/plain": [
       "{'Decision Tree': {'accuracy': 0.7155854249531387,\n",
       "  'precision': 0.73630476190476191,\n",
       "  'recall': 0.77784813430556721},\n",
       " 'Gaussian Naive Bayes': {'accuracy': 0.64481324006766327,\n",
       "  'precision': 0.74849523809523821,\n",
       "  'recall': 0.68737900574013666},\n",
       " 'KNN': {'accuracy': 0.74338225209161968,\n",
       "  'precision': 0.82331428571428555,\n",
       "  'recall': 0.76638661100637162},\n",
       " 'Logistic Regression': {'accuracy': 0.64395982870814861,\n",
       "  'precision': 0.56010158730158732,\n",
       "  'recall': 0.7849578967290638},\n",
       " 'Random Forest': {'accuracy': 0.76541855255337621,\n",
       "  'precision': 0.83725714285714281,\n",
       "  'recall': 0.7858539594296855},\n",
       " 'SVM_linear': {'accuracy': 0.63704110090065369,\n",
       "  'precision': 0.5414349206349206,\n",
       "  'recall': 0.78726496354053477},\n",
       " 'SVM_rbf': {'accuracy': 0.69824288696871351,\n",
       "  'precision': 0.72386031746031743,\n",
       "  'recall': 0.7614877582575289},\n",
       " 'SVM_sigmoid': {'accuracy': 0.57786616681144176,\n",
       "  'precision': 0.57587301587301587,\n",
       "  'recall': 0.67330214602032434}}"
      ]
     },
     "execution_count": 85,
     "metadata": {},
     "output_type": "execute_result"
    }
   ],
   "source": [
    "#Using top 5 features :d\n",
    "#1 . Score   order_number  is  7436.76339123\n",
    "#2 . Score   add_to_cart_order  is  1230.39796882\n",
    "#3 . Score   days_since_prior_order  is  1204.20175736\n",
    "#4 . Score   order_hour_of_day  is  48.7814693703\n",
    "#5 . Score   product_id  is  9.06752313378\n",
    "#6 . Score   order_id  is  5.11306880726\n",
    "\n",
    "features_6=['order_number', 'add_to_cart_order', 'days_since_prior_order',  'order_hour_of_day','product_id','order_id']\n",
    "print (\"Using Top 6 features\")\n",
    "DictTable(get_score_table(features_6))\n",
    "\n",
    "\n"
   ]
  },
  {
   "cell_type": "markdown",
   "metadata": {
    "collapsed": true
   },
   "source": [
    "Pretty good results from first attempt! OK, let have a closer look into Random Forest and use it as a final classifier to predict\n",
    "which producst will be in the next customer's order.\n",
    "Params that we used are 'Random Forest': RandomForestClassifier(n_estimators=100,class_weight='balanced'),"
   ]
  },
  {
   "cell_type": "markdown",
   "metadata": {},
   "source": [
    "## Tuning Random Forest as a best classifier."
   ]
  },
  {
   "cell_type": "markdown",
   "metadata": {},
   "source": [
    "Firstly, I test Number of trees in the forest (n_estimators)\n",
    "This is the number of trees I want to build before taking the maximum voting or averages of predictions. Higher number of trees give me better performance but makes your code slower. I should choose as high value as your processor can handle because this makes your predictions stronger and more stable"
   ]
  },
  {
   "cell_type": "code",
   "execution_count": 74,
   "metadata": {},
   "outputs": [
    {
     "name": "stdout",
     "output_type": "stream",
     "text": [
      "Using Top 6 features Same parameters as in algorithm selection\n"
     ]
    },
    {
     "data": {
      "text/html": [
       "<table width=100%><tr><th>Classifier</th><th>Accuracy</th><th>Precision</th><th>Recall</th></tr><tr><td>Random Forest n=120</td><td>0.766607232661272</td><td>0.8380698412698413</td><td>0.7868648798630589</td></tr><tr><td>Random Forest n=300</td><td>0.76621100595864</td><td>0.8394666666666666</td><td>0.7856425507124124</td></tr><tr><td>Random Forest n=500</td><td>0.7662262454472027</td><td>0.8394666666666666</td><td>0.7856592455324826</td></tr><tr><td>Random Forest n=800</td><td>0.7666224721498347</td><td>0.8404063492063493</td><td>0.7856414193885933</td></tr><tr><td>Random Forest n=1200</td><td>0.766470077264207</td><td>0.8402031746031747</td><td>0.7855583740735758</td></tr></table>"
      ],
      "text/plain": [
       "{'Random Forest n=120': {'accuracy': 0.76660723266127195,\n",
       "  'precision': 0.8380698412698413,\n",
       "  'recall': 0.78686487986305886},\n",
       " 'Random Forest n=1200': {'accuracy': 0.76647007726420702,\n",
       "  'precision': 0.84020317460317473,\n",
       "  'recall': 0.78555837407357576},\n",
       " 'Random Forest n=300': {'accuracy': 0.76621100595864,\n",
       "  'precision': 0.83946666666666658,\n",
       "  'recall': 0.7856425507124124},\n",
       " 'Random Forest n=500': {'accuracy': 0.76622624544720275,\n",
       "  'precision': 0.83946666666666658,\n",
       "  'recall': 0.78565924553248256},\n",
       " 'Random Forest n=800': {'accuracy': 0.7666224721498347,\n",
       "  'precision': 0.84040634920634927,\n",
       "  'recall': 0.78564141938859333}}"
      ]
     },
     "execution_count": 74,
     "metadata": {},
     "output_type": "execute_result"
    }
   ],
   "source": [
    "classifier_dict2 = {'Random Forest n=120': RandomForestClassifier(n_estimators=120,class_weight='balanced'),\n",
    "                    'Random Forest n=300': RandomForestClassifier(n_estimators=300,class_weight='balanced'),\n",
    "                    'Random Forest n=500': RandomForestClassifier(n_estimators=500,class_weight='balanced'),\n",
    "                    'Random Forest n=800': RandomForestClassifier(n_estimators=800,class_weight='balanced'),\n",
    "                    'Random Forest n=1200': RandomForestClassifier(n_estimators=1200,class_weight='balanced'),\n",
    "                    }\n",
    "\n",
    "def get_score_table2(features_set,dataset=priorall_edit):\n",
    "    features = dataset[features_set]\n",
    "    classifier_comp = {}\n",
    "    for x in classifier_dict2.keys():\n",
    "        pipeline =  Pipeline(steps=[('scaler', StandardScaler()),\n",
    "                                         (\"classifier\",classifier_dict2[x])])\n",
    "        #produces shuffled lots and splits data in 3 parts\n",
    "        #This cross-validation object is a merge of StratifiedKFold and ShuffleSplit\n",
    "        #This module creates a single training/testing set having equally balanced(stratified) classes. \n",
    "        cv = StratifiedShuffleSplit(n_splits=3, test_size=0.3, random_state=0)\n",
    "        acc = []\n",
    "        pre = []\n",
    "        rec = []\n",
    "        for train_index, test_index in cv.split(features, labels):\n",
    "            X_train, X_test = features.iloc[train_index], features.iloc[test_index]\n",
    "            y_train, y_test = labels[train_index], labels[test_index]\n",
    "        #    This module is useful as a direct k-fold cross-validation operator: as in it will set up n_folds\n",
    "        #training/testing sets such that classes are equally balanced in both.\n",
    "        #cv=StratifiedKFold(n_splits=n_splits).split(enron_data_df[features_5], data_df['poi'])\n",
    "            pipeline.fit(X_train,y_train)\n",
    "            predictions = pipeline.predict(X_test)\n",
    "            acc.append(accuracy_score(predictions,y_test))\n",
    "            pre.append(precision_score(predictions,y_test))\n",
    "            rec.append(recall_score(predictions,y_test))\n",
    "        #print pipeline.named_steps\n",
    "        classifier_comp[x]={}\n",
    "        classifier_comp[x]['accuracy']=np.mean(acc)\n",
    "        classifier_comp[x]['precision']=np.mean(pre)\n",
    "        classifier_comp[x]['recall']=np.mean(rec)\n",
    "    return classifier_comp\n",
    "\n",
    "\n",
    "\n",
    "#start_time5 = datetime.now()\n",
    "features_6=['order_number', 'add_to_cart_order', 'days_since_prior_order',  'order_hour_of_day','product_id','order_id']\n",
    "print (\"Using Top 6 features Same parameters as in algorithm selection\")\n",
    "DictTable(get_score_table2(features_6))\n",
    "#end_time5=datatime.now()\n",
    "#print('\\nProcessing time {}\\n'.format((end_time5-start_time5).total_seconds()))"
   ]
  },
  {
   "cell_type": "markdown",
   "metadata": {},
   "source": [
    "Ok, looks like by increasing number of trees quality of clasification is slightly better, but runs slower \n",
    "Secondly, I set n_estimators=1200 and test maximum depth of tree (max_depth).  If None, then nodes are expanded until all leaves are pure or until all leaves contain less than min_samples_split samples."
   ]
  },
  {
   "cell_type": "code",
   "execution_count": 75,
   "metadata": {},
   "outputs": [
    {
     "name": "stdout",
     "output_type": "stream",
     "text": [
      "Using Top 6 features Same parameters as in algorithm selection\n"
     ]
    },
    {
     "data": {
      "text/html": [
       "<table width=100%><tr><th>Classifier</th><th>Accuracy</th><th>Precision</th><th>Recall</th></tr><tr><td>Random Forest mdepth=5</td><td>0.7102973224218596</td><td>0.7932190476190476</td><td>0.7418639962879919</td></tr><tr><td>Random Forest mdepth=8</td><td>0.7184047303372498</td><td>0.788063492063492</td><td>0.7538924167178479</td></tr><tr><td>Random Forest mdepth=15</td><td>0.7636202929029702</td><td>0.8465015873015873</td><td>0.7788281409774935</td></tr><tr><td>Random Forest mdepth=25</td><td>0.7671406147609687</td><td>0.8445460317460318</td><td>0.7840784944732109</td></tr><tr><td>Random Forest mdepth=30</td><td>0.7666529511269603</td><td>0.8408888888888889</td><td>0.7854255771220656</td></tr><tr><td>Random Forest mdepth=None</td><td>0.7666681906155229</td><td>0.8382222222222223</td><td>0.7868641455404908</td></tr></table>"
      ],
      "text/plain": [
       "{'Random Forest mdepth=15': {'accuracy': 0.76362029290297018,\n",
       "  'precision': 0.84650158730158731,\n",
       "  'recall': 0.77882814097749353},\n",
       " 'Random Forest mdepth=25': {'accuracy': 0.76714061476096873,\n",
       "  'precision': 0.84454603174603182,\n",
       "  'recall': 0.78407849447321087},\n",
       " 'Random Forest mdepth=30': {'accuracy': 0.7666529511269603,\n",
       "  'precision': 0.84088888888888891,\n",
       "  'recall': 0.78542557712206562},\n",
       " 'Random Forest mdepth=5': {'accuracy': 0.71029732242185961,\n",
       "  'precision': 0.7932190476190476,\n",
       "  'recall': 0.74186399628799193},\n",
       " 'Random Forest mdepth=8': {'accuracy': 0.71840473033724983,\n",
       "  'precision': 0.78806349206349202,\n",
       "  'recall': 0.7538924167178479},\n",
       " 'Random Forest mdepth=None': {'accuracy': 0.76666819061552294,\n",
       "  'precision': 0.83822222222222231,\n",
       "  'recall': 0.78686414554049078}}"
      ]
     },
     "execution_count": 75,
     "metadata": {},
     "output_type": "execute_result"
    }
   ],
   "source": [
    "classifier_dict3 = {'Random Forest mdepth=5': RandomForestClassifier(n_estimators=120, max_depth=5, class_weight='balanced'),\n",
    "                    'Random Forest mdepth=8': RandomForestClassifier(n_estimators=120,max_depth=8,class_weight='balanced'),\n",
    "                    'Random Forest mdepth=15': RandomForestClassifier(n_estimators=120,max_depth=15,class_weight='balanced'),\n",
    "                    'Random Forest mdepth=25': RandomForestClassifier(n_estimators=120,max_depth=25,class_weight='balanced'),\n",
    "                    'Random Forest mdepth=30': RandomForestClassifier(n_estimators=120,max_depth=30,class_weight='balanced'),\n",
    "                    'Random Forest mdepth=None': RandomForestClassifier(n_estimators=120,max_depth=None,class_weight='balanced'),\n",
    "                    }\n",
    "\n",
    "def get_score_table3(features_set,dataset=priorall_edit):\n",
    "    features = dataset[features_set]\n",
    "    classifier_comp = {}\n",
    "    for x in classifier_dict3.keys():\n",
    "        pipeline =  Pipeline(steps=[('scaler', StandardScaler()),\n",
    "                                         (\"classifier\",classifier_dict3[x])])\n",
    "        #produces shuffled lots and splits data in 3 parts\n",
    "        #This cross-validation object is a merge of StratifiedKFold and ShuffleSplit\n",
    "        #This module creates a single training/testing set having equally balanced(stratified) classes. \n",
    "        cv = StratifiedShuffleSplit(n_splits=3, test_size=0.3, random_state=0)\n",
    "        acc = []\n",
    "        pre = []\n",
    "        rec = []\n",
    "        for train_index, test_index in cv.split(features, labels):\n",
    "            X_train, X_test = features.iloc[train_index], features.iloc[test_index]\n",
    "            y_train, y_test = labels[train_index], labels[test_index]\n",
    "        #    This module is useful as a direct k-fold cross-validation operator: as in it will set up n_folds\n",
    "        #training/testing sets such that classes are equally balanced in both.\n",
    "        #cv=StratifiedKFold(n_splits=n_splits).split(enron_data_df[features_5], data_df['poi'])\n",
    "            pipeline.fit(X_train,y_train)\n",
    "            predictions = pipeline.predict(X_test)\n",
    "            acc.append(accuracy_score(predictions,y_test))\n",
    "            pre.append(precision_score(predictions,y_test))\n",
    "            rec.append(recall_score(predictions,y_test))\n",
    "        #print pipeline.named_steps\n",
    "        classifier_comp[x]={}\n",
    "        classifier_comp[x]['accuracy']=np.mean(acc)\n",
    "        classifier_comp[x]['precision']=np.mean(pre)\n",
    "        classifier_comp[x]['recall']=np.mean(rec)\n",
    "    return classifier_comp\n",
    "\n",
    "\n",
    "\n",
    "#start_time5 = datetime.now()\n",
    "features_6=['order_number', 'add_to_cart_order', 'days_since_prior_order',  'order_hour_of_day','product_id','order_id']\n",
    "print (\"Using Top 6 features Same parameters as in algorithm selection\")\n",
    "DictTable(get_score_table3(features_6))"
   ]
  },
  {
   "cell_type": "markdown",
   "metadata": {},
   "source": [
    "mdepth=25 gives the best performance so far, a much higher precision in comparison to previous tests.\n",
    "\n",
    "Next, I will test the minimum number of samples required to split an internal node (min_samples_split)\n",
    "\n",
    "Default min_samples_split=2\n"
   ]
  },
  {
   "cell_type": "code",
   "execution_count": 76,
   "metadata": {},
   "outputs": [
    {
     "name": "stdout",
     "output_type": "stream",
     "text": [
      "Using Top 6 features Same parameters as in algorithm selection\n"
     ]
    },
    {
     "data": {
      "text/html": [
       "<table width=100%><tr><th>Classifier</th><th>Accuracy</th><th>Precision</th><th>Recall</th></tr><tr><td>Random Forest min_samples_split=2</td><td>0.7669729803867783</td><td>0.8447746031746032</td><td>0.7837509008744549</td></tr><tr><td>Random Forest min_samples_split=5</td><td>0.7722458434294944</td><td>0.8390603174603175</td><td>0.793338747097352</td></tr><tr><td>Random Forest min_samples_split=10</td><td>0.7704475837790884</td><td>0.8335746031746032</td><td>0.7941304784359646</td></tr><tr><td>Random Forest min_samples_split=15</td><td>0.767445404532224</td><td>0.8285714285714286</td><td>0.793168266461104</td></tr><tr><td>Random Forest min_samples_split=100</td><td>0.7354729575275454</td><td>0.7978412698412698</td><td>0.7697803252946519</td></tr></table>"
      ],
      "text/plain": [
       "{'Random Forest min_samples_split=10': {'accuracy': 0.7704475837790884,\n",
       "  'precision': 0.83357460317460319,\n",
       "  'recall': 0.79413047843596463},\n",
       " 'Random Forest min_samples_split=100': {'accuracy': 0.73547295752754538,\n",
       "  'precision': 0.7978412698412698,\n",
       "  'recall': 0.7697803252946519},\n",
       " 'Random Forest min_samples_split=15': {'accuracy': 0.76744540453222398,\n",
       "  'precision': 0.82857142857142863,\n",
       "  'recall': 0.79316826646110405},\n",
       " 'Random Forest min_samples_split=2': {'accuracy': 0.7669729803867783,\n",
       "  'precision': 0.84477460317460318,\n",
       "  'recall': 0.78375090087445487},\n",
       " 'Random Forest min_samples_split=5': {'accuracy': 0.77224584342949443,\n",
       "  'precision': 0.83906031746031751,\n",
       "  'recall': 0.79333874709735197}}"
      ]
     },
     "execution_count": 76,
     "metadata": {},
     "output_type": "execute_result"
    }
   ],
   "source": [
    "classifier_dict4 = {'Random Forest min_samples_split=2': RandomForestClassifier(n_estimators=120,max_depth=25,\\\n",
    "                                                                    min_samples_split=2, class_weight='balanced'),\n",
    "                    'Random Forest min_samples_split=5': RandomForestClassifier(n_estimators=120,max_depth=25,\\\n",
    "                                                                     min_samples_split=5, class_weight='balanced'),\n",
    "                    'Random Forest min_samples_split=10': RandomForestClassifier(n_estimators=120,max_depth=25,\\\n",
    "                                                                     min_samples_split=10, class_weight='balanced'),\n",
    "                    'Random Forest min_samples_split=15': RandomForestClassifier(n_estimators=120,max_depth=25,\\\n",
    "                                                                     min_samples_split=15, class_weight='balanced'),\n",
    "                    'Random Forest min_samples_split=100': RandomForestClassifier(n_estimators=120,max_depth=25,\\\n",
    "                                                                     min_samples_split=100, class_weight='balanced'),\n",
    "                    }\n",
    "\n",
    "def get_score_table4(features_set,dataset=priorall_edit):\n",
    "    features = dataset[features_set]\n",
    "    classifier_comp = {}\n",
    "    for x in classifier_dict4.keys():\n",
    "        pipeline =  Pipeline(steps=[('scaler', StandardScaler()),\n",
    "                                         (\"classifier\",classifier_dict4[x])])\n",
    "        #produces shuffled lots and splits data in 3 parts\n",
    "        #This cross-validation object is a merge of StratifiedKFold and ShuffleSplit\n",
    "        #This module creates a single training/testing set having equally balanced(stratified) classes. \n",
    "        cv = StratifiedShuffleSplit(n_splits=3, test_size=0.3, random_state=0)\n",
    "        acc = []\n",
    "        pre = []\n",
    "        rec = []\n",
    "        for train_index, test_index in cv.split(features, labels):\n",
    "            X_train, X_test = features.iloc[train_index], features.iloc[test_index]\n",
    "            y_train, y_test = labels[train_index], labels[test_index]\n",
    "        #    This module is useful as a direct k-fold cross-validation operator: as in it will set up n_folds\n",
    "        #training/testing sets such that classes are equally balanced in both.\n",
    "        #cv=StratifiedKFold(n_splits=n_splits).split(enron_data_df[features_5], data_df['poi'])\n",
    "            pipeline.fit(X_train,y_train)\n",
    "            predictions = pipeline.predict(X_test)\n",
    "            acc.append(accuracy_score(predictions,y_test))\n",
    "            pre.append(precision_score(predictions,y_test))\n",
    "            rec.append(recall_score(predictions,y_test))\n",
    "        #print pipeline.named_steps\n",
    "        classifier_comp[x]={}\n",
    "        classifier_comp[x]['accuracy']=np.mean(acc)\n",
    "        classifier_comp[x]['precision']=np.mean(pre)\n",
    "        classifier_comp[x]['recall']=np.mean(rec)\n",
    "    return classifier_comp\n",
    "\n",
    "\n",
    "\n",
    "#start_time5 = datetime.now()\n",
    "features_6=['order_number', 'add_to_cart_order', 'days_since_prior_order',  'order_hour_of_day','product_id','order_id']\n",
    "print (\"Using Top 6 features Same parameters as in algorithm selection\")\n",
    "DictTable(get_score_table4(features_6))"
   ]
  },
  {
   "cell_type": "markdown",
   "metadata": {},
   "source": [
    "min_samples_split=2 gives better result!\n",
    "Next I will test the max_leaf_nodes\n",
    "(max_leaf_nodes) Grow trees with max_leaf_nodes in best-first fashion. Best nodes are defined as relative reduction in impurity.\n",
    "If None then unlimited number of leaf nodes."
   ]
  },
  {
   "cell_type": "code",
   "execution_count": 77,
   "metadata": {},
   "outputs": [
    {
     "name": "stdout",
     "output_type": "stream",
     "text": [
      "Using Top 6 features Same parameters as in algorithm selection\n"
     ]
    },
    {
     "data": {
      "text/html": [
       "<table width=100%><tr><th>Classifier</th><th>Accuracy</th><th>Precision</th><th>Recall</th></tr><tr><td>Random Forest max_leaf_nodes=2</td><td>0.6877733583260945</td><td>0.7655619047619048</td><td>0.7282022166829748</td></tr><tr><td>Random Forest max_leaf_nodes=5</td><td>0.7050701778448315</td><td>0.8042666666666666</td><td>0.7311272746860679</td></tr><tr><td>Random Forest max_leaf_nodes=10</td><td>0.7061826605099134</td><td>0.7988825396825397</td><td>0.7346764779794865</td></tr><tr><td>Random Forest max_leaf_nodes=None</td><td>0.7677197153263536</td><td>0.8442412698412699</td><td>0.784948963061194</td></tr></table>"
      ],
      "text/plain": [
       "{'Random Forest max_leaf_nodes=10': {'accuracy': 0.70618266050991341,\n",
       "  'precision': 0.79888253968253975,\n",
       "  'recall': 0.73467647797948654},\n",
       " 'Random Forest max_leaf_nodes=2': {'accuracy': 0.68777335832609454,\n",
       "  'precision': 0.76556190476190478,\n",
       "  'recall': 0.7282022166829748},\n",
       " 'Random Forest max_leaf_nodes=5': {'accuracy': 0.7050701778448315,\n",
       "  'precision': 0.80426666666666657,\n",
       "  'recall': 0.73112727468606786},\n",
       " 'Random Forest max_leaf_nodes=None': {'accuracy': 0.76771971532635364,\n",
       "  'precision': 0.8442412698412699,\n",
       "  'recall': 0.78494896306119399}}"
      ]
     },
     "execution_count": 77,
     "metadata": {},
     "output_type": "execute_result"
    }
   ],
   "source": [
    "classifier_dict5 = {'Random Forest max_leaf_nodes=2': RandomForestClassifier(n_estimators=120,max_depth=25,max_leaf_nodes=2,\\\n",
    "                                                                    min_samples_split=2, class_weight='balanced'),\n",
    "                    'Random Forest max_leaf_nodes=5': RandomForestClassifier(n_estimators=120,max_depth=25,max_leaf_nodes=5,\\\n",
    "                                                                     min_samples_split=2, class_weight='balanced'),\n",
    "                    'Random Forest max_leaf_nodes=10': RandomForestClassifier(n_estimators=120,max_depth=25,max_leaf_nodes=10,\\\n",
    "                                                                     min_samples_split=2, class_weight='balanced'),\n",
    "                    'Random Forest max_leaf_nodes=None': RandomForestClassifier(n_estimators=120,max_depth=25,\\\n",
    "                                                                     min_samples_split=2, class_weight='balanced'),          \n",
    "                    }\n",
    "\n",
    "def get_score_table5(features_set,dataset=priorall_edit):\n",
    "    features = dataset[features_set]\n",
    "    classifier_comp = {}\n",
    "    for x in classifier_dict5.keys():\n",
    "        pipeline =  Pipeline(steps=[('scaler', StandardScaler()),\n",
    "                                         (\"classifier\",classifier_dict5[x])])\n",
    "        #produces shuffled lots and splits data in 3 parts\n",
    "        #This cross-validation object is a merge of StratifiedKFold and ShuffleSplit\n",
    "        #This module creates a single training/testing set having equally balanced(stratified) classes. \n",
    "        cv = StratifiedShuffleSplit(n_splits=3, test_size=0.3, random_state=0)\n",
    "        acc = []\n",
    "        pre = []\n",
    "        rec = []\n",
    "        for train_index, test_index in cv.split(features, labels):\n",
    "            X_train, X_test = features.iloc[train_index], features.iloc[test_index]\n",
    "            y_train, y_test = labels[train_index], labels[test_index]\n",
    "        #    This module is useful as a direct k-fold cross-validation operator: as in it will set up n_folds\n",
    "        #training/testing sets such that classes are equally balanced in both.\n",
    "        #cv=StratifiedKFold(n_splits=n_splits).split(enron_data_df[features_5], data_df['poi'])\n",
    "            pipeline.fit(X_train,y_train)\n",
    "            predictions = pipeline.predict(X_test)\n",
    "            acc.append(accuracy_score(predictions,y_test))\n",
    "            pre.append(precision_score(predictions,y_test))\n",
    "            rec.append(recall_score(predictions,y_test))\n",
    "        #print pipeline.named_steps\n",
    "        classifier_comp[x]={}\n",
    "        classifier_comp[x]['accuracy']=np.mean(acc)\n",
    "        classifier_comp[x]['precision']=np.mean(pre)\n",
    "        classifier_comp[x]['recall']=np.mean(rec)\n",
    "    return classifier_comp\n",
    "\n",
    "\n",
    "\n",
    "#start_time5 = datetime.now()\n",
    "features_6=['order_number', 'add_to_cart_order', 'days_since_prior_order',  'order_hour_of_day','product_id','order_id']\n",
    "print (\"Using Top 6 features Same parameters as in algorithm selection\")\n",
    "DictTable(get_score_table5(features_6))"
   ]
  },
  {
   "cell_type": "markdown",
   "metadata": {},
   "source": [
    "Ok, it is better not to specify max_lead_nodes.\n",
    "\n",
    "Lastly, I will test max_features \n",
    "The number of features to consider when looking for the best split:\n",
    "If int, then consider max_features features at each split.\n",
    "If float, then max_features is a percentage and int(max_features * n_features) features are considered at each split.\n",
    "If “auto”, then max_features=sqrt(n_features).\n",
    "If “sqrt”, then max_features=sqrt(n_features) (same as “auto”).\n",
    "If “log2”, then max_features=log2(n_features).\n",
    "If None, then max_features=n_features.\n",
    "Note: the search for a split does not stop until at least one valid partition of the node samples is found, even if it requires to effectively inspect more than max_features features."
   ]
  },
  {
   "cell_type": "code",
   "execution_count": 78,
   "metadata": {},
   "outputs": [
    {
     "name": "stdout",
     "output_type": "stream",
     "text": [
      "Using Top 6 features Same parameters as in algorithm selection\n"
     ]
    },
    {
     "data": {
      "text/html": [
       "<table width=100%><tr><th>Classifier</th><th>Accuracy</th><th>Precision</th><th>Recall</th></tr><tr><td>Random Forest max_features=log2</td><td>0.7672320516923453</td><td>0.8444444444444444</td><td>0.7842344308794624</td></tr><tr><td>Random Forest max_features=sqrt</td><td>0.7674606440207867</td><td>0.8446984126984128</td><td>0.7843893213390736</td></tr><tr><td>Random Forest max_feautures None</td><td>0.7679330681662323</td><td>0.8450031746031748</td><td>0.7848052736403898</td></tr></table>"
      ],
      "text/plain": [
       "{'Random Forest max_features=log2': {'accuracy': 0.76723205169234532,\n",
       "  'precision': 0.84444444444444444,\n",
       "  'recall': 0.78423443087946243},\n",
       " 'Random Forest max_features=sqrt': {'accuracy': 0.76746064402078673,\n",
       "  'precision': 0.84469841269841284,\n",
       "  'recall': 0.78438932133907358},\n",
       " 'Random Forest max_feautures None': {'accuracy': 0.7679330681662323,\n",
       "  'precision': 0.84500317460317476,\n",
       "  'recall': 0.78480527364038977}}"
      ]
     },
     "execution_count": 78,
     "metadata": {},
     "output_type": "execute_result"
    }
   ],
   "source": [
    "classifier_dict6 = {'Random Forest max_features=log2': RandomForestClassifier(n_estimators=120,max_depth=25,max_features='log2',\\\n",
    "                                                                    min_samples_split=2, class_weight='balanced'),\n",
    "                    'Random Forest max_features=sqrt': RandomForestClassifier(n_estimators=120,max_depth=25,max_features='auto',\\\n",
    "                                                                     min_samples_split=2, class_weight='balanced'),\n",
    "                    'Random Forest max_feautures None': RandomForestClassifier(n_estimators=120,max_depth=25,\\\n",
    "                                                                     min_samples_split=2, class_weight='balanced'),\n",
    "                    }\n",
    "\n",
    "def get_score_table6(features_set,dataset=priorall_edit):\n",
    "    features = dataset[features_set]\n",
    "    classifier_comp = {}\n",
    "    for x in classifier_dict6.keys():\n",
    "        pipeline =  Pipeline(steps=[('scaler', StandardScaler()),\n",
    "                                         (\"classifier\",classifier_dict6[x])])\n",
    "        #produces shuffled lots and splits data in 3 parts\n",
    "        #This cross-validation object is a merge of StratifiedKFold and ShuffleSplit\n",
    "        #This module creates a single training/testing set having equally balanced(stratified) classes. \n",
    "        cv = StratifiedShuffleSplit(n_splits=3, test_size=0.3, random_state=0)\n",
    "        acc = []\n",
    "        pre = []\n",
    "        rec = []\n",
    "        for train_index, test_index in cv.split(features, labels):\n",
    "            X_train, X_test = features.iloc[train_index], features.iloc[test_index]\n",
    "            y_train, y_test = labels[train_index], labels[test_index]\n",
    "        #    This module is useful as a direct k-fold cross-validation operator: as in it will set up n_folds\n",
    "        #training/testing sets such that classes are equally balanced in both.\n",
    "        #cv=StratifiedKFold(n_splits=n_splits).split(enron_data_df[features_5], data_df['poi'])\n",
    "            pipeline.fit(X_train,y_train)\n",
    "            predictions = pipeline.predict(X_test)\n",
    "            acc.append(accuracy_score(predictions,y_test))\n",
    "            pre.append(precision_score(predictions,y_test))\n",
    "            rec.append(recall_score(predictions,y_test))\n",
    "        #print pipeline.named_steps\n",
    "        classifier_comp[x]={}\n",
    "        classifier_comp[x]['accuracy']=np.mean(acc)\n",
    "        classifier_comp[x]['precision']=np.mean(pre)\n",
    "        classifier_comp[x]['recall']=np.mean(rec)\n",
    "    return classifier_comp\n",
    "\n",
    "\n",
    "\n",
    "#start_time5 = datetime.now()\n",
    "features_6=['order_number', 'add_to_cart_order', 'days_since_prior_order',  'order_hour_of_day','product_id','order_id']\n",
    "print (\"Using Top 6 features Same parameters as in algorithm selection\")\n",
    "DictTable(get_score_table6(features_6))"
   ]
  },
  {
   "cell_type": "markdown",
   "metadata": {},
   "source": [
    "Ok, now I can finalize all parameter for Random Forest\n"
   ]
  },
  {
   "cell_type": "code",
   "execution_count": 101,
   "metadata": {},
   "outputs": [
    {
     "name": "stdout",
     "output_type": "stream",
     "text": [
      "Using Top 6 features Same parameters as in algorithm selection\n"
     ]
    },
    {
     "data": {
      "text/html": [
       "<table width=100%><tr><th>Classifier</th><th>Accuracy</th><th>Precision</th><th>Recall</th></tr><tr><td>Random Forest finalized params</td><td>0.7674301650436611</td><td>0.8453079365079366</td><td>0.7840324705106955</td></tr></table>"
      ],
      "text/plain": [
       "{'Random Forest finalized params': {'accuracy': 0.76743016504366113,\n",
       "  'precision': 0.84530793650793656,\n",
       "  'recall': 0.78403247051069547}}"
      ]
     },
     "execution_count": 101,
     "metadata": {},
     "output_type": "execute_result"
    }
   ],
   "source": [
    "import utils\n",
    "classifier_dict7 = {'Random Forest finalized params': RandomForestClassifier(n_estimators=1200,max_depth=25,max_features='log2',\\\n",
    "                                                                    min_samples_split=2, class_weight='balanced'),\n",
    "                    }\n",
    "\n",
    "def get_score_table7(features_set,dataset=priorall_edit):\n",
    "    features = dataset[features_set]\n",
    "    classifier_comp = {}\n",
    "    for x in classifier_dict7.keys():\n",
    "        pipeline =  Pipeline(steps=[('scaler', StandardScaler()),\n",
    "                                         (\"classifier\",classifier_dict7[x])])\n",
    "        #produces shuffled lots and splits data in 3 parts\n",
    "        #This cross-validation object is a merge of StratifiedKFold and ShuffleSplit\n",
    "        #This module creates a single training/testing set having equally balanced(stratified) classes. \n",
    "        cv = StratifiedShuffleSplit(n_splits=3, test_size=0.3, random_state=0)\n",
    "        acc = []\n",
    "        pre = []\n",
    "        rec = []\n",
    "        for train_index, test_index in cv.split(features, labels):\n",
    "            X_train, X_test = features.iloc[train_index], features.iloc[test_index]\n",
    "            y_train, y_test = labels[train_index], labels[test_index]\n",
    "        #    This module is useful as a direct k-fold cross-validation operator: as in it will set up n_folds\n",
    "        #training/testing sets such that classes are equally balanced in both.\n",
    "        #cv=StratifiedKFold(n_splits=n_splits).split(enron_data_df[features_5], data_df['poi'])\n",
    "            pipeline.fit(X_train,y_train)\n",
    "            predictions = pipeline.predict(X_test)\n",
    "            acc.append(accuracy_score(predictions,y_test))\n",
    "            pre.append(precision_score(predictions,y_test))\n",
    "            rec.append(recall_score(predictions,y_test))\n",
    "           #print pipeline.named_steps\n",
    "        classifier_comp[x]={}\n",
    "        classifier_comp[x]['accuracy']=np.mean(acc)\n",
    "        classifier_comp[x]['precision']=np.mean(pre)\n",
    "        classifier_comp[x]['recall']=np.mean(rec)\n",
    "    return classifier_comp\n",
    "\n",
    "\n",
    "\n",
    "#start_time5 = datetime.now()\n",
    "features_6=['order_number', 'add_to_cart_order', 'days_since_prior_order',  'order_hour_of_day','product_id','order_id']\n",
    "print (\"Using Top 6 features Same parameters as in algorithm selection\")\n",
    "DictTable(get_score_table7(features_6))\n"
   ]
  },
  {
   "cell_type": "markdown",
   "metadata": {},
   "source": [
    "OK, now I will compare results with data with no feature 'add_to_cart_order' and 'product_id' specified, as we do not have this information\n",
    "in our test set data\n"
   ]
  },
  {
   "cell_type": "code",
   "execution_count": 87,
   "metadata": {},
   "outputs": [
    {
     "name": "stdout",
     "output_type": "stream",
     "text": [
      "comparison with available features in test set\n"
     ]
    },
    {
     "data": {
      "text/html": [
       "<table width=100%><tr><th>Classifier</th><th>Accuracy</th><th>Precision</th><th>Recall</th></tr><tr><td>Random Forest finalized params</td><td>0.7203553848732837</td><td>0.7433650793650793</td><td>0.7802311899357788</td></tr></table>"
      ],
      "text/plain": [
       "{'Random Forest finalized params': {'accuracy': 0.72035538487328366,\n",
       "  'precision': 0.74336507936507934,\n",
       "  'recall': 0.78023118993577878}}"
      ]
     },
     "execution_count": 87,
     "metadata": {},
     "output_type": "execute_result"
    }
   ],
   "source": [
    "#start_time5 = datetime.now()\n",
    "features_5=['order_number', 'days_since_prior_order',  'order_hour_of_day','order_id','order_dow']\n",
    "print (\"comparison with available features in test set\")\n",
    "DictTable(get_score_table7(features_5))"
   ]
  },
  {
   "cell_type": "markdown",
   "metadata": {},
   "source": [
    "Ok, this is actually pretty good result, so this model could be used for prediction.\n",
    "The final accuracy of the best result is 0.7674.\n",
    "In order to work out which products will be bought in which order I need to create 5847 (number of unique product_id)\n",
    "tables/dataframes with 10931 (total number of test unique order_id) rows as datasets for predictions that I needed for kaggle submission.\n"
   ]
  }
 ],
 "metadata": {
  "kernelspec": {
   "display_name": "Python [conda root]",
   "language": "python",
   "name": "conda-root-py"
  },
  "language_info": {
   "codemirror_mode": {
    "name": "ipython",
    "version": 3
   },
   "file_extension": ".py",
   "mimetype": "text/x-python",
   "name": "python",
   "nbconvert_exporter": "python",
   "pygments_lexer": "ipython3",
   "version": "3.6.1"
  }
 },
 "nbformat": 4,
 "nbformat_minor": 2
}
